{
 "cells": [
  {
   "cell_type": "markdown",
   "metadata": {},
   "source": [
    "# Calculcate Accident Rate, Data Analysis, & Conclusions\n",
    "\n",
    "#### Project Members: Ming Gao, Monica Moussavi, Joey Picca, Rohan Kancharla\n",
    "\n",
    "This notebook reads the collected data from the prior notebook, calculates fatal accident rate per day (for each city and precipitation category), and then makes our final plots and t-tests."
   ]
  },
  {
   "cell_type": "code",
   "execution_count": 1,
   "metadata": {},
   "outputs": [],
   "source": [
    "import pandas as pd\n",
    "import matplotlib.pyplot as plt\n",
    "import seaborn as sns\n",
    "import numpy as np\n",
    "import scipy.stats as sts"
   ]
  },
  {
   "cell_type": "markdown",
   "metadata": {},
   "source": [
    "### Convert our master dataframe into accident rates"
   ]
  },
  {
   "cell_type": "code",
   "execution_count": 2,
   "metadata": {},
   "outputs": [
    {
     "data": {
      "text/html": [
       "<div>\n",
       "<style scoped>\n",
       "    .dataframe tbody tr th:only-of-type {\n",
       "        vertical-align: middle;\n",
       "    }\n",
       "\n",
       "    .dataframe tbody tr th {\n",
       "        vertical-align: top;\n",
       "    }\n",
       "\n",
       "    .dataframe thead th {\n",
       "        text-align: right;\n",
       "    }\n",
       "</style>\n",
       "<table border=\"1\" class=\"dataframe\">\n",
       "  <thead>\n",
       "    <tr style=\"text-align: right;\">\n",
       "      <th></th>\n",
       "      <th>Date</th>\n",
       "      <th>MaxTemp</th>\n",
       "      <th>MinTemp</th>\n",
       "      <th>Precipitation</th>\n",
       "      <th>County</th>\n",
       "      <th>Deaths</th>\n",
       "      <th>Case</th>\n",
       "      <th>Vehicles</th>\n",
       "      <th>City</th>\n",
       "      <th>Category</th>\n",
       "    </tr>\n",
       "  </thead>\n",
       "  <tbody>\n",
       "    <tr>\n",
       "      <th>0</th>\n",
       "      <td>2014-01-01</td>\n",
       "      <td>69</td>\n",
       "      <td>31</td>\n",
       "      <td>0.0</td>\n",
       "      <td>DALLAS (113)</td>\n",
       "      <td>1.0</td>\n",
       "      <td>480002.0</td>\n",
       "      <td>1.0</td>\n",
       "      <td>Dallas</td>\n",
       "      <td>Dry</td>\n",
       "    </tr>\n",
       "    <tr>\n",
       "      <th>1</th>\n",
       "      <td>2014-01-01</td>\n",
       "      <td>69</td>\n",
       "      <td>31</td>\n",
       "      <td>0.0</td>\n",
       "      <td>DALLAS (113)</td>\n",
       "      <td>2.0</td>\n",
       "      <td>480003.0</td>\n",
       "      <td>2.0</td>\n",
       "      <td>Dallas</td>\n",
       "      <td>Dry</td>\n",
       "    </tr>\n",
       "    <tr>\n",
       "      <th>2</th>\n",
       "      <td>2014-01-01</td>\n",
       "      <td>69</td>\n",
       "      <td>31</td>\n",
       "      <td>0.0</td>\n",
       "      <td>DALLAS (113)</td>\n",
       "      <td>1.0</td>\n",
       "      <td>480182.0</td>\n",
       "      <td>2.0</td>\n",
       "      <td>Dallas</td>\n",
       "      <td>Dry</td>\n",
       "    </tr>\n",
       "    <tr>\n",
       "      <th>3</th>\n",
       "      <td>2014-01-02</td>\n",
       "      <td>43</td>\n",
       "      <td>25</td>\n",
       "      <td>0.0</td>\n",
       "      <td>NaN</td>\n",
       "      <td>NaN</td>\n",
       "      <td>NaN</td>\n",
       "      <td>NaN</td>\n",
       "      <td>Dallas</td>\n",
       "      <td>Dry</td>\n",
       "    </tr>\n",
       "    <tr>\n",
       "      <th>4</th>\n",
       "      <td>2014-01-03</td>\n",
       "      <td>52</td>\n",
       "      <td>25</td>\n",
       "      <td>0.0</td>\n",
       "      <td>NaN</td>\n",
       "      <td>NaN</td>\n",
       "      <td>NaN</td>\n",
       "      <td>NaN</td>\n",
       "      <td>Dallas</td>\n",
       "      <td>Dry</td>\n",
       "    </tr>\n",
       "  </tbody>\n",
       "</table>\n",
       "</div>"
      ],
      "text/plain": [
       "         Date  MaxTemp  MinTemp  Precipitation        County  Deaths  \\\n",
       "0  2014-01-01       69       31            0.0  DALLAS (113)     1.0   \n",
       "1  2014-01-01       69       31            0.0  DALLAS (113)     2.0   \n",
       "2  2014-01-01       69       31            0.0  DALLAS (113)     1.0   \n",
       "3  2014-01-02       43       25            0.0           NaN     NaN   \n",
       "4  2014-01-03       52       25            0.0           NaN     NaN   \n",
       "\n",
       "       Case  Vehicles    City Category  \n",
       "0  480002.0       1.0  Dallas      Dry  \n",
       "1  480003.0       2.0  Dallas      Dry  \n",
       "2  480182.0       2.0  Dallas      Dry  \n",
       "3       NaN       NaN  Dallas      Dry  \n",
       "4       NaN       NaN  Dallas      Dry  "
      ]
     },
     "execution_count": 2,
     "metadata": {},
     "output_type": "execute_result"
    }
   ],
   "source": [
    "df=pd.read_csv(\"./data/clean/allCitiesAndWeather.csv\", index_col=0)\n",
    "df.head()"
   ]
  },
  {
   "cell_type": "markdown",
   "metadata": {},
   "source": [
    "##### create a new dictionary which has key=\"city name\", value=\"mean of accident counts per day\" in different categories of precipitation"
   ]
  },
  {
   "cell_type": "code",
   "execution_count": 3,
   "metadata": {},
   "outputs": [
    {
     "data": {
      "text/plain": [
       "{'Dallas': [0.72217709179528833,\n",
       "  0.66789667896678961,\n",
       "  0.72251308900523559,\n",
       "  0.63829787234042556,\n",
       "  0.79487179487179482],\n",
       " 'Phoenix': [1.1433121019108281,\n",
       "  1.0952380952380953,\n",
       "  0.82795698924731187,\n",
       "  1.25,\n",
       "  1.25],\n",
       " 'San Antonio': [0.49076517150395776,\n",
       "  0.4484536082474227,\n",
       "  0.53926701570680624,\n",
       "  0.5,\n",
       "  0.35294117647058826],\n",
       " 'Houston': [1.1080038572806172,\n",
       "  1.0554089709762533,\n",
       "  1.0252100840336134,\n",
       "  1.1056910569105691,\n",
       "  0.91836734693877553],\n",
       " 'San Jose': [0.297464016449623,\n",
       "  0.26589595375722541,\n",
       "  0.35135135135135137,\n",
       "  0.3611111111111111,\n",
       "  1.0],\n",
       " 'Los Angeles': [1.7963544940289127, 1.736, 2.0370370370370372, 2.0, 1.5],\n",
       " 'New York City': [0.61824953445065178,\n",
       "  0.49624060150375937,\n",
       "  0.59561128526645768,\n",
       "  0.6058394160583942,\n",
       "  0.53333333333333333],\n",
       " 'Philadelphia': [0.28468653648509762,\n",
       "  0.21134020618556701,\n",
       "  0.18892508143322476,\n",
       "  0.21875,\n",
       "  0.20000000000000001],\n",
       " 'Chicago': [0.69422423556058888,\n",
       "  0.65359477124183007,\n",
       "  0.59195402298850575,\n",
       "  0.5847457627118644,\n",
       "  0.33333333333333331],\n",
       " 'San Diego': [0.61198945981554675,\n",
       "  0.62311557788944727,\n",
       "  0.56097560975609762,\n",
       "  0.90476190476190477,\n",
       "  0.83333333333333337]}"
      ]
     },
     "execution_count": 3,
     "metadata": {},
     "output_type": "execute_result"
    }
   ],
   "source": [
    "# Get the list of cities\n",
    "city_name=df[\"City\"].unique()\n",
    "categories=[\"Dry\",\"Light\",\"Moderate\",\"Heavy\",\"Very Heavy\"]\n",
    "\n",
    "# Create a dictionary to hold our accident rates for each city\n",
    "cities={\"Dallas\":[],\"Phoenix\":[],\"San Antonio\":[],\"Houston\":[],\"San Jose\":[],\"Los Angeles\":[],\\\n",
    "        \"New York City\":[],\"Philadelphia\":[],\"Chicago\":[],\"San Diego\":[]}\n",
    "\n",
    "# Loop through cities and precipitation categories to calculate mean fatal accident rate\n",
    "for city in cities:\n",
    "    for category in categories:\n",
    "        subset = df[(df['City'] == city) & (df['Category'] == category)]\n",
    "        stat = np.mean(subset.groupby('Date')['Case'].count())\n",
    "        cities[city].append(stat)\n",
    "cities"
   ]
  },
  {
   "cell_type": "markdown",
   "metadata": {},
   "source": [
    "##### Convert dictionary into dataframe and add a new column with precipitation categories\n",
    "We will use this added column to help us make our seaborn charts."
   ]
  },
  {
   "cell_type": "code",
   "execution_count": 4,
   "metadata": {},
   "outputs": [
    {
     "data": {
      "text/html": [
       "<div>\n",
       "<style scoped>\n",
       "    .dataframe tbody tr th:only-of-type {\n",
       "        vertical-align: middle;\n",
       "    }\n",
       "\n",
       "    .dataframe tbody tr th {\n",
       "        vertical-align: top;\n",
       "    }\n",
       "\n",
       "    .dataframe thead th {\n",
       "        text-align: right;\n",
       "    }\n",
       "</style>\n",
       "<table border=\"1\" class=\"dataframe\">\n",
       "  <thead>\n",
       "    <tr style=\"text-align: right;\">\n",
       "      <th></th>\n",
       "      <th>Dallas</th>\n",
       "      <th>Phoenix</th>\n",
       "      <th>San Antonio</th>\n",
       "      <th>Houston</th>\n",
       "      <th>San Jose</th>\n",
       "      <th>Los Angeles</th>\n",
       "      <th>New York City</th>\n",
       "      <th>Philadelphia</th>\n",
       "      <th>Chicago</th>\n",
       "      <th>San Diego</th>\n",
       "      <th>Category</th>\n",
       "    </tr>\n",
       "  </thead>\n",
       "  <tbody>\n",
       "    <tr>\n",
       "      <th>0</th>\n",
       "      <td>0.722177</td>\n",
       "      <td>1.143312</td>\n",
       "      <td>0.490765</td>\n",
       "      <td>1.108004</td>\n",
       "      <td>0.297464</td>\n",
       "      <td>1.796354</td>\n",
       "      <td>0.618250</td>\n",
       "      <td>0.284687</td>\n",
       "      <td>0.694224</td>\n",
       "      <td>0.611989</td>\n",
       "      <td>Dry</td>\n",
       "    </tr>\n",
       "    <tr>\n",
       "      <th>1</th>\n",
       "      <td>0.667897</td>\n",
       "      <td>1.095238</td>\n",
       "      <td>0.448454</td>\n",
       "      <td>1.055409</td>\n",
       "      <td>0.265896</td>\n",
       "      <td>1.736000</td>\n",
       "      <td>0.496241</td>\n",
       "      <td>0.211340</td>\n",
       "      <td>0.653595</td>\n",
       "      <td>0.623116</td>\n",
       "      <td>Light</td>\n",
       "    </tr>\n",
       "    <tr>\n",
       "      <th>2</th>\n",
       "      <td>0.722513</td>\n",
       "      <td>0.827957</td>\n",
       "      <td>0.539267</td>\n",
       "      <td>1.025210</td>\n",
       "      <td>0.351351</td>\n",
       "      <td>2.037037</td>\n",
       "      <td>0.595611</td>\n",
       "      <td>0.188925</td>\n",
       "      <td>0.591954</td>\n",
       "      <td>0.560976</td>\n",
       "      <td>Moderate</td>\n",
       "    </tr>\n",
       "    <tr>\n",
       "      <th>3</th>\n",
       "      <td>0.638298</td>\n",
       "      <td>1.250000</td>\n",
       "      <td>0.500000</td>\n",
       "      <td>1.105691</td>\n",
       "      <td>0.361111</td>\n",
       "      <td>2.000000</td>\n",
       "      <td>0.605839</td>\n",
       "      <td>0.218750</td>\n",
       "      <td>0.584746</td>\n",
       "      <td>0.904762</td>\n",
       "      <td>Heavy</td>\n",
       "    </tr>\n",
       "    <tr>\n",
       "      <th>4</th>\n",
       "      <td>0.794872</td>\n",
       "      <td>1.250000</td>\n",
       "      <td>0.352941</td>\n",
       "      <td>0.918367</td>\n",
       "      <td>1.000000</td>\n",
       "      <td>1.500000</td>\n",
       "      <td>0.533333</td>\n",
       "      <td>0.200000</td>\n",
       "      <td>0.333333</td>\n",
       "      <td>0.833333</td>\n",
       "      <td>Very Heavy</td>\n",
       "    </tr>\n",
       "  </tbody>\n",
       "</table>\n",
       "</div>"
      ],
      "text/plain": [
       "     Dallas   Phoenix  San Antonio   Houston  San Jose  Los Angeles  \\\n",
       "0  0.722177  1.143312     0.490765  1.108004  0.297464     1.796354   \n",
       "1  0.667897  1.095238     0.448454  1.055409  0.265896     1.736000   \n",
       "2  0.722513  0.827957     0.539267  1.025210  0.351351     2.037037   \n",
       "3  0.638298  1.250000     0.500000  1.105691  0.361111     2.000000   \n",
       "4  0.794872  1.250000     0.352941  0.918367  1.000000     1.500000   \n",
       "\n",
       "   New York City  Philadelphia   Chicago  San Diego    Category  \n",
       "0       0.618250      0.284687  0.694224   0.611989         Dry  \n",
       "1       0.496241      0.211340  0.653595   0.623116       Light  \n",
       "2       0.595611      0.188925  0.591954   0.560976    Moderate  \n",
       "3       0.605839      0.218750  0.584746   0.904762       Heavy  \n",
       "4       0.533333      0.200000  0.333333   0.833333  Very Heavy  "
      ]
     },
     "execution_count": 4,
     "metadata": {},
     "output_type": "execute_result"
    }
   ],
   "source": [
    "accident_rate_dataset=pd.DataFrame(cities)\n",
    "accident_rate_dataset[\"Category\"]=categories\n",
    "accident_rate_dataset"
   ]
  },
  {
   "cell_type": "markdown",
   "metadata": {},
   "source": [
    "##### write \"accident rate\" csv.file"
   ]
  },
  {
   "cell_type": "code",
   "execution_count": 5,
   "metadata": {},
   "outputs": [],
   "source": [
    "#accident_rate_dataset.to_csv(\"accident_rate_dataset.csv\")"
   ]
  },
  {
   "cell_type": "markdown",
   "metadata": {},
   "source": [
    "### Data Visualization"
   ]
  },
  {
   "cell_type": "code",
   "execution_count": 6,
   "metadata": {},
   "outputs": [
    {
     "data": {
      "text/html": [
       "<div>\n",
       "<style scoped>\n",
       "    .dataframe tbody tr th:only-of-type {\n",
       "        vertical-align: middle;\n",
       "    }\n",
       "\n",
       "    .dataframe tbody tr th {\n",
       "        vertical-align: top;\n",
       "    }\n",
       "\n",
       "    .dataframe thead th {\n",
       "        text-align: right;\n",
       "    }\n",
       "</style>\n",
       "<table border=\"1\" class=\"dataframe\">\n",
       "  <thead>\n",
       "    <tr style=\"text-align: right;\">\n",
       "      <th></th>\n",
       "      <th>Category</th>\n",
       "      <th>City</th>\n",
       "      <th>value</th>\n",
       "    </tr>\n",
       "  </thead>\n",
       "  <tbody>\n",
       "    <tr>\n",
       "      <th>0</th>\n",
       "      <td>Dry</td>\n",
       "      <td>Dallas</td>\n",
       "      <td>0.722177</td>\n",
       "    </tr>\n",
       "    <tr>\n",
       "      <th>1</th>\n",
       "      <td>Light</td>\n",
       "      <td>Dallas</td>\n",
       "      <td>0.667897</td>\n",
       "    </tr>\n",
       "    <tr>\n",
       "      <th>2</th>\n",
       "      <td>Moderate</td>\n",
       "      <td>Dallas</td>\n",
       "      <td>0.722513</td>\n",
       "    </tr>\n",
       "    <tr>\n",
       "      <th>3</th>\n",
       "      <td>Heavy</td>\n",
       "      <td>Dallas</td>\n",
       "      <td>0.638298</td>\n",
       "    </tr>\n",
       "    <tr>\n",
       "      <th>4</th>\n",
       "      <td>Very Heavy</td>\n",
       "      <td>Dallas</td>\n",
       "      <td>0.794872</td>\n",
       "    </tr>\n",
       "    <tr>\n",
       "      <th>5</th>\n",
       "      <td>Dry</td>\n",
       "      <td>Phoenix</td>\n",
       "      <td>1.143312</td>\n",
       "    </tr>\n",
       "    <tr>\n",
       "      <th>6</th>\n",
       "      <td>Light</td>\n",
       "      <td>Phoenix</td>\n",
       "      <td>1.095238</td>\n",
       "    </tr>\n",
       "    <tr>\n",
       "      <th>7</th>\n",
       "      <td>Moderate</td>\n",
       "      <td>Phoenix</td>\n",
       "      <td>0.827957</td>\n",
       "    </tr>\n",
       "    <tr>\n",
       "      <th>8</th>\n",
       "      <td>Heavy</td>\n",
       "      <td>Phoenix</td>\n",
       "      <td>1.250000</td>\n",
       "    </tr>\n",
       "    <tr>\n",
       "      <th>9</th>\n",
       "      <td>Very Heavy</td>\n",
       "      <td>Phoenix</td>\n",
       "      <td>1.250000</td>\n",
       "    </tr>\n",
       "  </tbody>\n",
       "</table>\n",
       "</div>"
      ],
      "text/plain": [
       "     Category     City     value\n",
       "0         Dry   Dallas  0.722177\n",
       "1       Light   Dallas  0.667897\n",
       "2    Moderate   Dallas  0.722513\n",
       "3       Heavy   Dallas  0.638298\n",
       "4  Very Heavy   Dallas  0.794872\n",
       "5         Dry  Phoenix  1.143312\n",
       "6       Light  Phoenix  1.095238\n",
       "7    Moderate  Phoenix  0.827957\n",
       "8       Heavy  Phoenix  1.250000\n",
       "9  Very Heavy  Phoenix  1.250000"
      ]
     },
     "execution_count": 6,
     "metadata": {},
     "output_type": "execute_result"
    }
   ],
   "source": [
    "# \"Melting\" our dataframe creates only one column with numeric values, such that seaborn can readily plot it.\n",
    "melt1=pd.melt(accident_rate_dataset, id_vars=['Category'], var_name='City')\n",
    "\n",
    "melt1.head(10)"
   ]
  },
  {
   "cell_type": "markdown",
   "metadata": {},
   "source": [
    "### All Cities: Dry,Light,Moderate Precip Fatal Accident Rates"
   ]
  },
  {
   "cell_type": "code",
   "execution_count": 7,
   "metadata": {},
   "outputs": [
    {
     "data": {
      "text/html": [
       "<div>\n",
       "<style scoped>\n",
       "    .dataframe tbody tr th:only-of-type {\n",
       "        vertical-align: middle;\n",
       "    }\n",
       "\n",
       "    .dataframe tbody tr th {\n",
       "        vertical-align: top;\n",
       "    }\n",
       "\n",
       "    .dataframe thead th {\n",
       "        text-align: right;\n",
       "    }\n",
       "</style>\n",
       "<table border=\"1\" class=\"dataframe\">\n",
       "  <thead>\n",
       "    <tr style=\"text-align: right;\">\n",
       "      <th></th>\n",
       "      <th>Category</th>\n",
       "      <th>City</th>\n",
       "      <th>value</th>\n",
       "    </tr>\n",
       "  </thead>\n",
       "  <tbody>\n",
       "    <tr>\n",
       "      <th>0</th>\n",
       "      <td>Dry</td>\n",
       "      <td>Dallas</td>\n",
       "      <td>0.722177</td>\n",
       "    </tr>\n",
       "    <tr>\n",
       "      <th>1</th>\n",
       "      <td>Light</td>\n",
       "      <td>Dallas</td>\n",
       "      <td>0.667897</td>\n",
       "    </tr>\n",
       "    <tr>\n",
       "      <th>2</th>\n",
       "      <td>Moderate</td>\n",
       "      <td>Dallas</td>\n",
       "      <td>0.722513</td>\n",
       "    </tr>\n",
       "    <tr>\n",
       "      <th>5</th>\n",
       "      <td>Dry</td>\n",
       "      <td>Phoenix</td>\n",
       "      <td>1.143312</td>\n",
       "    </tr>\n",
       "    <tr>\n",
       "      <th>6</th>\n",
       "      <td>Light</td>\n",
       "      <td>Phoenix</td>\n",
       "      <td>1.095238</td>\n",
       "    </tr>\n",
       "    <tr>\n",
       "      <th>7</th>\n",
       "      <td>Moderate</td>\n",
       "      <td>Phoenix</td>\n",
       "      <td>0.827957</td>\n",
       "    </tr>\n",
       "    <tr>\n",
       "      <th>10</th>\n",
       "      <td>Dry</td>\n",
       "      <td>San Antonio</td>\n",
       "      <td>0.490765</td>\n",
       "    </tr>\n",
       "    <tr>\n",
       "      <th>11</th>\n",
       "      <td>Light</td>\n",
       "      <td>San Antonio</td>\n",
       "      <td>0.448454</td>\n",
       "    </tr>\n",
       "    <tr>\n",
       "      <th>12</th>\n",
       "      <td>Moderate</td>\n",
       "      <td>San Antonio</td>\n",
       "      <td>0.539267</td>\n",
       "    </tr>\n",
       "    <tr>\n",
       "      <th>15</th>\n",
       "      <td>Dry</td>\n",
       "      <td>Houston</td>\n",
       "      <td>1.108004</td>\n",
       "    </tr>\n",
       "  </tbody>\n",
       "</table>\n",
       "</div>"
      ],
      "text/plain": [
       "    Category         City     value\n",
       "0        Dry       Dallas  0.722177\n",
       "1      Light       Dallas  0.667897\n",
       "2   Moderate       Dallas  0.722513\n",
       "5        Dry      Phoenix  1.143312\n",
       "6      Light      Phoenix  1.095238\n",
       "7   Moderate      Phoenix  0.827957\n",
       "10       Dry  San Antonio  0.490765\n",
       "11     Light  San Antonio  0.448454\n",
       "12  Moderate  San Antonio  0.539267\n",
       "15       Dry      Houston  1.108004"
      ]
     },
     "execution_count": 7,
     "metadata": {},
     "output_type": "execute_result"
    }
   ],
   "source": [
    "# Filter our dataframe so we only have our desired categories\n",
    "graph1=melt1[(melt1['Category'] == 'Dry') | (melt1['Category'] == 'Light') | (melt1['Category'] == 'Moderate')]\n",
    "graph1.head(10)"
   ]
  },
  {
   "cell_type": "code",
   "execution_count": 8,
   "metadata": {},
   "outputs": [
    {
     "data": {
      "image/png": "[encoded data removed]",
      "text/plain": [
       "<Figure size 623.375x216 with 1 Axes>"
      ]
     },
     "metadata": {
      "needs_background": "light"
     },
     "output_type": "display_data"
    }
   ],
   "source": [
    "# Construct our seaborn catplot\n",
    "g1 = sns.catplot(x=\"City\", y=\"value\", hue=\"Category\", data=graph1,\n",
    "                height=3,aspect=2.5,kind=\"bar\", palette=\"muted\")\n",
    "g1.set_xticklabels(rotation=22, horizontalalignment='right')\n",
    "\n",
    "g1.set_axis_labels('Cities', 'Accidents Per Day')\n",
    "plt.title('Accidents Per Day Based on Level of Rain by County of Major Cities')\n",
    "plt.show()"
   ]
  },
  {
   "cell_type": "markdown",
   "metadata": {},
   "source": [
    "### All Cities: Dry,Heavy,Very Heavy Precip Fatal Accident Rates"
   ]
  },
  {
   "cell_type": "code",
   "execution_count": 9,
   "metadata": {},
   "outputs": [
    {
     "data": {
      "text/html": [
       "<div>\n",
       "<style scoped>\n",
       "    .dataframe tbody tr th:only-of-type {\n",
       "        vertical-align: middle;\n",
       "    }\n",
       "\n",
       "    .dataframe tbody tr th {\n",
       "        vertical-align: top;\n",
       "    }\n",
       "\n",
       "    .dataframe thead th {\n",
       "        text-align: right;\n",
       "    }\n",
       "</style>\n",
       "<table border=\"1\" class=\"dataframe\">\n",
       "  <thead>\n",
       "    <tr style=\"text-align: right;\">\n",
       "      <th></th>\n",
       "      <th>Category</th>\n",
       "      <th>City</th>\n",
       "      <th>value</th>\n",
       "    </tr>\n",
       "  </thead>\n",
       "  <tbody>\n",
       "    <tr>\n",
       "      <th>0</th>\n",
       "      <td>Dry</td>\n",
       "      <td>Dallas</td>\n",
       "      <td>0.722177</td>\n",
       "    </tr>\n",
       "    <tr>\n",
       "      <th>3</th>\n",
       "      <td>Heavy</td>\n",
       "      <td>Dallas</td>\n",
       "      <td>0.638298</td>\n",
       "    </tr>\n",
       "    <tr>\n",
       "      <th>4</th>\n",
       "      <td>Very Heavy</td>\n",
       "      <td>Dallas</td>\n",
       "      <td>0.794872</td>\n",
       "    </tr>\n",
       "    <tr>\n",
       "      <th>5</th>\n",
       "      <td>Dry</td>\n",
       "      <td>Phoenix</td>\n",
       "      <td>1.143312</td>\n",
       "    </tr>\n",
       "    <tr>\n",
       "      <th>8</th>\n",
       "      <td>Heavy</td>\n",
       "      <td>Phoenix</td>\n",
       "      <td>1.250000</td>\n",
       "    </tr>\n",
       "    <tr>\n",
       "      <th>9</th>\n",
       "      <td>Very Heavy</td>\n",
       "      <td>Phoenix</td>\n",
       "      <td>1.250000</td>\n",
       "    </tr>\n",
       "    <tr>\n",
       "      <th>10</th>\n",
       "      <td>Dry</td>\n",
       "      <td>San Antonio</td>\n",
       "      <td>0.490765</td>\n",
       "    </tr>\n",
       "    <tr>\n",
       "      <th>13</th>\n",
       "      <td>Heavy</td>\n",
       "      <td>San Antonio</td>\n",
       "      <td>0.500000</td>\n",
       "    </tr>\n",
       "    <tr>\n",
       "      <th>14</th>\n",
       "      <td>Very Heavy</td>\n",
       "      <td>San Antonio</td>\n",
       "      <td>0.352941</td>\n",
       "    </tr>\n",
       "    <tr>\n",
       "      <th>15</th>\n",
       "      <td>Dry</td>\n",
       "      <td>Houston</td>\n",
       "      <td>1.108004</td>\n",
       "    </tr>\n",
       "  </tbody>\n",
       "</table>\n",
       "</div>"
      ],
      "text/plain": [
       "      Category         City     value\n",
       "0          Dry       Dallas  0.722177\n",
       "3        Heavy       Dallas  0.638298\n",
       "4   Very Heavy       Dallas  0.794872\n",
       "5          Dry      Phoenix  1.143312\n",
       "8        Heavy      Phoenix  1.250000\n",
       "9   Very Heavy      Phoenix  1.250000\n",
       "10         Dry  San Antonio  0.490765\n",
       "13       Heavy  San Antonio  0.500000\n",
       "14  Very Heavy  San Antonio  0.352941\n",
       "15         Dry      Houston  1.108004"
      ]
     },
     "execution_count": 9,
     "metadata": {},
     "output_type": "execute_result"
    }
   ],
   "source": [
    "graph2=melt1[(melt1['Category'] == 'Dry') | (melt1['Category'] == 'Heavy') | (melt1['Category'] == 'Very Heavy')]\n",
    "graph2.head(10)"
   ]
  },
  {
   "cell_type": "code",
   "execution_count": 10,
   "metadata": {},
   "outputs": [
    {
     "data": {
      "image/png": "[encoded data removed]",
      "text/plain": [
       "<Figure size 633.625x216 with 1 Axes>"
      ]
     },
     "metadata": {
      "needs_background": "light"
     },
     "output_type": "display_data"
    }
   ],
   "source": [
    "g2 = sns.catplot(x=\"City\", y=\"value\", hue=\"Category\", data=graph2,\n",
    "                height=3,aspect=2.5,kind=\"bar\", palette=\"muted\")\n",
    "g2.set_xticklabels(rotation=22, horizontalalignment='right')\n",
    "\n",
    "g2.set_axis_labels('Cities', 'Accidents Per Day')\n",
    "plt.title('Accidents Per Day Based on Level of Rain by County of Major Cities')\n",
    "plt.show()"
   ]
  },
  {
   "cell_type": "markdown",
   "metadata": {},
   "source": [
    "### \"Wet\" Cities: Dry,Light,Moderate Precip Fatal Accident Rates"
   ]
  },
  {
   "cell_type": "code",
   "execution_count": 11,
   "metadata": {},
   "outputs": [
    {
     "data": {
      "text/html": [
       "<div>\n",
       "<style scoped>\n",
       "    .dataframe tbody tr th:only-of-type {\n",
       "        vertical-align: middle;\n",
       "    }\n",
       "\n",
       "    .dataframe tbody tr th {\n",
       "        vertical-align: top;\n",
       "    }\n",
       "\n",
       "    .dataframe thead th {\n",
       "        text-align: right;\n",
       "    }\n",
       "</style>\n",
       "<table border=\"1\" class=\"dataframe\">\n",
       "  <thead>\n",
       "    <tr style=\"text-align: right;\">\n",
       "      <th></th>\n",
       "      <th>Category</th>\n",
       "      <th>City</th>\n",
       "      <th>value</th>\n",
       "    </tr>\n",
       "  </thead>\n",
       "  <tbody>\n",
       "    <tr>\n",
       "      <th>0</th>\n",
       "      <td>Dry</td>\n",
       "      <td>Dallas</td>\n",
       "      <td>0.722177</td>\n",
       "    </tr>\n",
       "    <tr>\n",
       "      <th>1</th>\n",
       "      <td>Light</td>\n",
       "      <td>Dallas</td>\n",
       "      <td>0.667897</td>\n",
       "    </tr>\n",
       "    <tr>\n",
       "      <th>2</th>\n",
       "      <td>Moderate</td>\n",
       "      <td>Dallas</td>\n",
       "      <td>0.722513</td>\n",
       "    </tr>\n",
       "    <tr>\n",
       "      <th>10</th>\n",
       "      <td>Dry</td>\n",
       "      <td>San Antonio</td>\n",
       "      <td>0.490765</td>\n",
       "    </tr>\n",
       "    <tr>\n",
       "      <th>11</th>\n",
       "      <td>Light</td>\n",
       "      <td>San Antonio</td>\n",
       "      <td>0.448454</td>\n",
       "    </tr>\n",
       "    <tr>\n",
       "      <th>12</th>\n",
       "      <td>Moderate</td>\n",
       "      <td>San Antonio</td>\n",
       "      <td>0.539267</td>\n",
       "    </tr>\n",
       "    <tr>\n",
       "      <th>15</th>\n",
       "      <td>Dry</td>\n",
       "      <td>Houston</td>\n",
       "      <td>1.108004</td>\n",
       "    </tr>\n",
       "    <tr>\n",
       "      <th>16</th>\n",
       "      <td>Light</td>\n",
       "      <td>Houston</td>\n",
       "      <td>1.055409</td>\n",
       "    </tr>\n",
       "    <tr>\n",
       "      <th>17</th>\n",
       "      <td>Moderate</td>\n",
       "      <td>Houston</td>\n",
       "      <td>1.025210</td>\n",
       "    </tr>\n",
       "    <tr>\n",
       "      <th>30</th>\n",
       "      <td>Dry</td>\n",
       "      <td>New York City</td>\n",
       "      <td>0.618250</td>\n",
       "    </tr>\n",
       "  </tbody>\n",
       "</table>\n",
       "</div>"
      ],
      "text/plain": [
       "    Category           City     value\n",
       "0        Dry         Dallas  0.722177\n",
       "1      Light         Dallas  0.667897\n",
       "2   Moderate         Dallas  0.722513\n",
       "10       Dry    San Antonio  0.490765\n",
       "11     Light    San Antonio  0.448454\n",
       "12  Moderate    San Antonio  0.539267\n",
       "15       Dry        Houston  1.108004\n",
       "16     Light        Houston  1.055409\n",
       "17  Moderate        Houston  1.025210\n",
       "30       Dry  New York City  0.618250"
      ]
     },
     "execution_count": 11,
     "metadata": {},
     "output_type": "execute_result"
    }
   ],
   "source": [
    "graph3=graph1[(graph1['City'] == 'Dallas') | (graph1['City'] == 'San Antonio') | (graph1['City'] == 'Houston')| (graph1['City'] == 'New York City')| (graph1['City'] == 'Philadelphia')| (graph1['City'] == 'Chicago')]\n",
    "graph3.head(10)"
   ]
  },
  {
   "cell_type": "code",
   "execution_count": 12,
   "metadata": {},
   "outputs": [
    {
     "data": {
      "image/png": "[encoded data removed]",
      "text/plain": [
       "<Figure size 540x216 with 1 Axes>"
      ]
     },
     "metadata": {
      "needs_background": "light"
     },
     "output_type": "display_data"
    }
   ],
   "source": [
    "g3 = sns.catplot(x=\"City\", y=\"value\", hue=\"Category\", data=graph3,\n",
    "                height=3,aspect=2.5,kind=\"bar\", palette=\"muted\", legend=False)\n",
    "\n",
    "\n",
    "g3.set_axis_labels('Cities', 'Accidents Per Day')\n",
    "plt.title('Accidents Per Day Based on Level of Rain by County of Major Cities - Wet')\n",
    "plt.legend(loc='upper right')\n",
    "plt.tight_layout()\n",
    "plt.show()"
   ]
  },
  {
   "cell_type": "markdown",
   "metadata": {},
   "source": [
    "### \"Wet\" Cities: Dry,Heavy,Very Heavy Precip Fatal Accident Rates"
   ]
  },
  {
   "cell_type": "code",
   "execution_count": 13,
   "metadata": {},
   "outputs": [
    {
     "data": {
      "text/html": [
       "<div>\n",
       "<style scoped>\n",
       "    .dataframe tbody tr th:only-of-type {\n",
       "        vertical-align: middle;\n",
       "    }\n",
       "\n",
       "    .dataframe tbody tr th {\n",
       "        vertical-align: top;\n",
       "    }\n",
       "\n",
       "    .dataframe thead th {\n",
       "        text-align: right;\n",
       "    }\n",
       "</style>\n",
       "<table border=\"1\" class=\"dataframe\">\n",
       "  <thead>\n",
       "    <tr style=\"text-align: right;\">\n",
       "      <th></th>\n",
       "      <th>Category</th>\n",
       "      <th>City</th>\n",
       "      <th>value</th>\n",
       "    </tr>\n",
       "  </thead>\n",
       "  <tbody>\n",
       "    <tr>\n",
       "      <th>0</th>\n",
       "      <td>Dry</td>\n",
       "      <td>Dallas</td>\n",
       "      <td>0.722177</td>\n",
       "    </tr>\n",
       "    <tr>\n",
       "      <th>3</th>\n",
       "      <td>Heavy</td>\n",
       "      <td>Dallas</td>\n",
       "      <td>0.638298</td>\n",
       "    </tr>\n",
       "    <tr>\n",
       "      <th>4</th>\n",
       "      <td>Very Heavy</td>\n",
       "      <td>Dallas</td>\n",
       "      <td>0.794872</td>\n",
       "    </tr>\n",
       "    <tr>\n",
       "      <th>10</th>\n",
       "      <td>Dry</td>\n",
       "      <td>San Antonio</td>\n",
       "      <td>0.490765</td>\n",
       "    </tr>\n",
       "    <tr>\n",
       "      <th>13</th>\n",
       "      <td>Heavy</td>\n",
       "      <td>San Antonio</td>\n",
       "      <td>0.500000</td>\n",
       "    </tr>\n",
       "    <tr>\n",
       "      <th>14</th>\n",
       "      <td>Very Heavy</td>\n",
       "      <td>San Antonio</td>\n",
       "      <td>0.352941</td>\n",
       "    </tr>\n",
       "    <tr>\n",
       "      <th>15</th>\n",
       "      <td>Dry</td>\n",
       "      <td>Houston</td>\n",
       "      <td>1.108004</td>\n",
       "    </tr>\n",
       "    <tr>\n",
       "      <th>18</th>\n",
       "      <td>Heavy</td>\n",
       "      <td>Houston</td>\n",
       "      <td>1.105691</td>\n",
       "    </tr>\n",
       "    <tr>\n",
       "      <th>19</th>\n",
       "      <td>Very Heavy</td>\n",
       "      <td>Houston</td>\n",
       "      <td>0.918367</td>\n",
       "    </tr>\n",
       "    <tr>\n",
       "      <th>30</th>\n",
       "      <td>Dry</td>\n",
       "      <td>New York City</td>\n",
       "      <td>0.618250</td>\n",
       "    </tr>\n",
       "  </tbody>\n",
       "</table>\n",
       "</div>"
      ],
      "text/plain": [
       "      Category           City     value\n",
       "0          Dry         Dallas  0.722177\n",
       "3        Heavy         Dallas  0.638298\n",
       "4   Very Heavy         Dallas  0.794872\n",
       "10         Dry    San Antonio  0.490765\n",
       "13       Heavy    San Antonio  0.500000\n",
       "14  Very Heavy    San Antonio  0.352941\n",
       "15         Dry        Houston  1.108004\n",
       "18       Heavy        Houston  1.105691\n",
       "19  Very Heavy        Houston  0.918367\n",
       "30         Dry  New York City  0.618250"
      ]
     },
     "execution_count": 13,
     "metadata": {},
     "output_type": "execute_result"
    }
   ],
   "source": [
    "graph4=graph2[(graph2['City'] == 'Dallas') | (graph2['City'] == 'San Antonio') | (graph2['City'] == 'Houston')| (graph2['City'] == 'New York City')| (graph2['City'] == 'Philadelphia')| (graph2['City'] == 'Chicago')]\n",
    "graph4.head(10)"
   ]
  },
  {
   "cell_type": "code",
   "execution_count": 14,
   "metadata": {},
   "outputs": [
    {
     "data": {
      "image/png": "[encoded data removed]",
      "text/plain": [
       "<Figure size 540x216 with 1 Axes>"
      ]
     },
     "metadata": {
      "needs_background": "light"
     },
     "output_type": "display_data"
    }
   ],
   "source": [
    "g4 = sns.catplot(x=\"City\", y=\"value\", hue=\"Category\", data=graph4,\n",
    "                height=3,aspect=2.5,kind=\"bar\", palette=\"muted\", legend=False)\n",
    "\n",
    "\n",
    "g4.set_axis_labels('Cities', 'Accidents Per Day')\n",
    "plt.title('Accidents Per Day Based on Level of Rain by County of Major Cities - Wet')\n",
    "plt.legend(loc='upper right')\n",
    "plt.tight_layout()\n",
    "plt.show()"
   ]
  },
  {
   "cell_type": "markdown",
   "metadata": {},
   "source": [
    "### \"Dry\" Cities: Dry,Light,Moderate Precip Fatal Accident Rates"
   ]
  },
  {
   "cell_type": "code",
   "execution_count": 15,
   "metadata": {
    "scrolled": true
   },
   "outputs": [
    {
     "data": {
      "text/html": [
       "<div>\n",
       "<style scoped>\n",
       "    .dataframe tbody tr th:only-of-type {\n",
       "        vertical-align: middle;\n",
       "    }\n",
       "\n",
       "    .dataframe tbody tr th {\n",
       "        vertical-align: top;\n",
       "    }\n",
       "\n",
       "    .dataframe thead th {\n",
       "        text-align: right;\n",
       "    }\n",
       "</style>\n",
       "<table border=\"1\" class=\"dataframe\">\n",
       "  <thead>\n",
       "    <tr style=\"text-align: right;\">\n",
       "      <th></th>\n",
       "      <th>Category</th>\n",
       "      <th>City</th>\n",
       "      <th>value</th>\n",
       "    </tr>\n",
       "  </thead>\n",
       "  <tbody>\n",
       "    <tr>\n",
       "      <th>5</th>\n",
       "      <td>Dry</td>\n",
       "      <td>Phoenix</td>\n",
       "      <td>1.143312</td>\n",
       "    </tr>\n",
       "    <tr>\n",
       "      <th>6</th>\n",
       "      <td>Light</td>\n",
       "      <td>Phoenix</td>\n",
       "      <td>1.095238</td>\n",
       "    </tr>\n",
       "    <tr>\n",
       "      <th>7</th>\n",
       "      <td>Moderate</td>\n",
       "      <td>Phoenix</td>\n",
       "      <td>0.827957</td>\n",
       "    </tr>\n",
       "    <tr>\n",
       "      <th>20</th>\n",
       "      <td>Dry</td>\n",
       "      <td>San Jose</td>\n",
       "      <td>0.297464</td>\n",
       "    </tr>\n",
       "    <tr>\n",
       "      <th>21</th>\n",
       "      <td>Light</td>\n",
       "      <td>San Jose</td>\n",
       "      <td>0.265896</td>\n",
       "    </tr>\n",
       "    <tr>\n",
       "      <th>22</th>\n",
       "      <td>Moderate</td>\n",
       "      <td>San Jose</td>\n",
       "      <td>0.351351</td>\n",
       "    </tr>\n",
       "    <tr>\n",
       "      <th>25</th>\n",
       "      <td>Dry</td>\n",
       "      <td>Los Angeles</td>\n",
       "      <td>1.796354</td>\n",
       "    </tr>\n",
       "    <tr>\n",
       "      <th>26</th>\n",
       "      <td>Light</td>\n",
       "      <td>Los Angeles</td>\n",
       "      <td>1.736000</td>\n",
       "    </tr>\n",
       "    <tr>\n",
       "      <th>27</th>\n",
       "      <td>Moderate</td>\n",
       "      <td>Los Angeles</td>\n",
       "      <td>2.037037</td>\n",
       "    </tr>\n",
       "    <tr>\n",
       "      <th>45</th>\n",
       "      <td>Dry</td>\n",
       "      <td>San Diego</td>\n",
       "      <td>0.611989</td>\n",
       "    </tr>\n",
       "  </tbody>\n",
       "</table>\n",
       "</div>"
      ],
      "text/plain": [
       "    Category         City     value\n",
       "5        Dry      Phoenix  1.143312\n",
       "6      Light      Phoenix  1.095238\n",
       "7   Moderate      Phoenix  0.827957\n",
       "20       Dry     San Jose  0.297464\n",
       "21     Light     San Jose  0.265896\n",
       "22  Moderate     San Jose  0.351351\n",
       "25       Dry  Los Angeles  1.796354\n",
       "26     Light  Los Angeles  1.736000\n",
       "27  Moderate  Los Angeles  2.037037\n",
       "45       Dry    San Diego  0.611989"
      ]
     },
     "execution_count": 15,
     "metadata": {},
     "output_type": "execute_result"
    }
   ],
   "source": [
    "graph5=graph1[(graph1['City'] == 'Phoenix') | (graph1['City'] == 'Los Angeles') | (graph1['City'] == 'San Jose')| (graph1['City'] == 'San Diego')]\n",
    "graph5.head(10)"
   ]
  },
  {
   "cell_type": "code",
   "execution_count": 16,
   "metadata": {},
   "outputs": [
    {
     "data": {
      "image/png": "[encoded data removed]",
      "text/plain": [
       "<Figure size 540x216 with 1 Axes>"
      ]
     },
     "metadata": {
      "needs_background": "light"
     },
     "output_type": "display_data"
    }
   ],
   "source": [
    "g5 = sns.catplot(x=\"City\", y=\"value\", hue=\"Category\", data=graph5,\n",
    "                height=3,aspect=2.5,kind=\"bar\", palette=\"muted\",legend=False)\n",
    "\n",
    "\n",
    "g5.set_axis_labels('Cities', 'Accidents Per Day')\n",
    "plt.title('Accidents Per Day Based on Level of Rain by County of Major Cities - Dry')\n",
    "plt.legend(loc='upper right')\n",
    "plt.tight_layout()\n",
    "plt.show()"
   ]
  },
  {
   "cell_type": "markdown",
   "metadata": {},
   "source": [
    "### \"Dry\" Cities: Dry,Heavy,Very Heavy Precip Fatal Accident Rates"
   ]
  },
  {
   "cell_type": "code",
   "execution_count": 17,
   "metadata": {},
   "outputs": [
    {
     "data": {
      "text/html": [
       "<div>\n",
       "<style scoped>\n",
       "    .dataframe tbody tr th:only-of-type {\n",
       "        vertical-align: middle;\n",
       "    }\n",
       "\n",
       "    .dataframe tbody tr th {\n",
       "        vertical-align: top;\n",
       "    }\n",
       "\n",
       "    .dataframe thead th {\n",
       "        text-align: right;\n",
       "    }\n",
       "</style>\n",
       "<table border=\"1\" class=\"dataframe\">\n",
       "  <thead>\n",
       "    <tr style=\"text-align: right;\">\n",
       "      <th></th>\n",
       "      <th>Category</th>\n",
       "      <th>City</th>\n",
       "      <th>value</th>\n",
       "    </tr>\n",
       "  </thead>\n",
       "  <tbody>\n",
       "    <tr>\n",
       "      <th>5</th>\n",
       "      <td>Dry</td>\n",
       "      <td>Phoenix</td>\n",
       "      <td>1.143312</td>\n",
       "    </tr>\n",
       "    <tr>\n",
       "      <th>8</th>\n",
       "      <td>Heavy</td>\n",
       "      <td>Phoenix</td>\n",
       "      <td>1.250000</td>\n",
       "    </tr>\n",
       "    <tr>\n",
       "      <th>9</th>\n",
       "      <td>Very Heavy</td>\n",
       "      <td>Phoenix</td>\n",
       "      <td>1.250000</td>\n",
       "    </tr>\n",
       "    <tr>\n",
       "      <th>20</th>\n",
       "      <td>Dry</td>\n",
       "      <td>San Jose</td>\n",
       "      <td>0.297464</td>\n",
       "    </tr>\n",
       "    <tr>\n",
       "      <th>23</th>\n",
       "      <td>Heavy</td>\n",
       "      <td>San Jose</td>\n",
       "      <td>0.361111</td>\n",
       "    </tr>\n",
       "    <tr>\n",
       "      <th>24</th>\n",
       "      <td>Very Heavy</td>\n",
       "      <td>San Jose</td>\n",
       "      <td>1.000000</td>\n",
       "    </tr>\n",
       "    <tr>\n",
       "      <th>25</th>\n",
       "      <td>Dry</td>\n",
       "      <td>Los Angeles</td>\n",
       "      <td>1.796354</td>\n",
       "    </tr>\n",
       "    <tr>\n",
       "      <th>28</th>\n",
       "      <td>Heavy</td>\n",
       "      <td>Los Angeles</td>\n",
       "      <td>2.000000</td>\n",
       "    </tr>\n",
       "    <tr>\n",
       "      <th>29</th>\n",
       "      <td>Very Heavy</td>\n",
       "      <td>Los Angeles</td>\n",
       "      <td>1.500000</td>\n",
       "    </tr>\n",
       "    <tr>\n",
       "      <th>45</th>\n",
       "      <td>Dry</td>\n",
       "      <td>San Diego</td>\n",
       "      <td>0.611989</td>\n",
       "    </tr>\n",
       "  </tbody>\n",
       "</table>\n",
       "</div>"
      ],
      "text/plain": [
       "      Category         City     value\n",
       "5          Dry      Phoenix  1.143312\n",
       "8        Heavy      Phoenix  1.250000\n",
       "9   Very Heavy      Phoenix  1.250000\n",
       "20         Dry     San Jose  0.297464\n",
       "23       Heavy     San Jose  0.361111\n",
       "24  Very Heavy     San Jose  1.000000\n",
       "25         Dry  Los Angeles  1.796354\n",
       "28       Heavy  Los Angeles  2.000000\n",
       "29  Very Heavy  Los Angeles  1.500000\n",
       "45         Dry    San Diego  0.611989"
      ]
     },
     "execution_count": 17,
     "metadata": {},
     "output_type": "execute_result"
    }
   ],
   "source": [
    "graph6=graph2[(graph2['City'] == 'Phoenix') | (graph2['City'] == 'Los Angeles') | (graph2['City'] == 'San Jose')| (graph2['City'] == 'San Diego')]\n",
    "graph6.head(10)"
   ]
  },
  {
   "cell_type": "code",
   "execution_count": 18,
   "metadata": {},
   "outputs": [
    {
     "data": {
      "image/png": "[encoded data removed]",
      "text/plain": [
       "<Figure size 540x216 with 1 Axes>"
      ]
     },
     "metadata": {
      "needs_background": "light"
     },
     "output_type": "display_data"
    }
   ],
   "source": [
    "g6 = sns.catplot(x=\"City\", y=\"value\", hue=\"Category\", data=graph6,\n",
    "                height=3,aspect=2.5,kind=\"bar\", palette=\"muted\",legend=False)\n",
    " \n",
    "\n",
    "\n",
    "g6.set_axis_labels('Cities', 'Accidents Per Day')\n",
    "plt.title('Accidents Per Day Based on Level of Rain by County of Major Cities - Dry')\n",
    "plt.legend(loc='upper right')\n",
    "plt.tight_layout()\n",
    "plt.show()"
   ]
  },
  {
   "cell_type": "markdown",
   "metadata": {},
   "source": [
    "### Statistical Analysis"
   ]
  },
  {
   "cell_type": "markdown",
   "metadata": {},
   "source": [
    "#####  Break the cities into our two groups based on initial analysis of total rainfall by City from 2014-2018"
   ]
  },
  {
   "cell_type": "code",
   "execution_count": 19,
   "metadata": {},
   "outputs": [],
   "source": [
    "df_bad = accident_rate_dataset[['Dallas','San Antonio','Houston','New York City','Philadelphia','Chicago','Category']]\n",
    "df_nice = accident_rate_dataset[['Phoenix','San Jose','Los Angeles','San Diego','Category']]"
   ]
  },
  {
   "cell_type": "code",
   "execution_count": 20,
   "metadata": {},
   "outputs": [
    {
     "data": {
      "text/html": [
       "<div>\n",
       "<style scoped>\n",
       "    .dataframe tbody tr th:only-of-type {\n",
       "        vertical-align: middle;\n",
       "    }\n",
       "\n",
       "    .dataframe tbody tr th {\n",
       "        vertical-align: top;\n",
       "    }\n",
       "\n",
       "    .dataframe thead th {\n",
       "        text-align: right;\n",
       "    }\n",
       "</style>\n",
       "<table border=\"1\" class=\"dataframe\">\n",
       "  <thead>\n",
       "    <tr style=\"text-align: right;\">\n",
       "      <th></th>\n",
       "      <th>Dallas</th>\n",
       "      <th>San Antonio</th>\n",
       "      <th>Houston</th>\n",
       "      <th>New York City</th>\n",
       "      <th>Philadelphia</th>\n",
       "      <th>Chicago</th>\n",
       "      <th>Category</th>\n",
       "    </tr>\n",
       "  </thead>\n",
       "  <tbody>\n",
       "    <tr>\n",
       "      <th>0</th>\n",
       "      <td>0.722177</td>\n",
       "      <td>0.490765</td>\n",
       "      <td>1.108004</td>\n",
       "      <td>0.618250</td>\n",
       "      <td>0.284687</td>\n",
       "      <td>0.694224</td>\n",
       "      <td>Dry</td>\n",
       "    </tr>\n",
       "    <tr>\n",
       "      <th>1</th>\n",
       "      <td>0.667897</td>\n",
       "      <td>0.448454</td>\n",
       "      <td>1.055409</td>\n",
       "      <td>0.496241</td>\n",
       "      <td>0.211340</td>\n",
       "      <td>0.653595</td>\n",
       "      <td>Light</td>\n",
       "    </tr>\n",
       "    <tr>\n",
       "      <th>2</th>\n",
       "      <td>0.722513</td>\n",
       "      <td>0.539267</td>\n",
       "      <td>1.025210</td>\n",
       "      <td>0.595611</td>\n",
       "      <td>0.188925</td>\n",
       "      <td>0.591954</td>\n",
       "      <td>Moderate</td>\n",
       "    </tr>\n",
       "    <tr>\n",
       "      <th>3</th>\n",
       "      <td>0.638298</td>\n",
       "      <td>0.500000</td>\n",
       "      <td>1.105691</td>\n",
       "      <td>0.605839</td>\n",
       "      <td>0.218750</td>\n",
       "      <td>0.584746</td>\n",
       "      <td>Heavy</td>\n",
       "    </tr>\n",
       "    <tr>\n",
       "      <th>4</th>\n",
       "      <td>0.794872</td>\n",
       "      <td>0.352941</td>\n",
       "      <td>0.918367</td>\n",
       "      <td>0.533333</td>\n",
       "      <td>0.200000</td>\n",
       "      <td>0.333333</td>\n",
       "      <td>Very Heavy</td>\n",
       "    </tr>\n",
       "  </tbody>\n",
       "</table>\n",
       "</div>"
      ],
      "text/plain": [
       "     Dallas  San Antonio   Houston  New York City  Philadelphia   Chicago  \\\n",
       "0  0.722177     0.490765  1.108004       0.618250      0.284687  0.694224   \n",
       "1  0.667897     0.448454  1.055409       0.496241      0.211340  0.653595   \n",
       "2  0.722513     0.539267  1.025210       0.595611      0.188925  0.591954   \n",
       "3  0.638298     0.500000  1.105691       0.605839      0.218750  0.584746   \n",
       "4  0.794872     0.352941  0.918367       0.533333      0.200000  0.333333   \n",
       "\n",
       "     Category  \n",
       "0         Dry  \n",
       "1       Light  \n",
       "2    Moderate  \n",
       "3       Heavy  \n",
       "4  Very Heavy  "
      ]
     },
     "execution_count": 20,
     "metadata": {},
     "output_type": "execute_result"
    }
   ],
   "source": [
    "df_bad"
   ]
  },
  {
   "cell_type": "code",
   "execution_count": 21,
   "metadata": {},
   "outputs": [
    {
     "data": {
      "text/html": [
       "<div>\n",
       "<style scoped>\n",
       "    .dataframe tbody tr th:only-of-type {\n",
       "        vertical-align: middle;\n",
       "    }\n",
       "\n",
       "    .dataframe tbody tr th {\n",
       "        vertical-align: top;\n",
       "    }\n",
       "\n",
       "    .dataframe thead th {\n",
       "        text-align: right;\n",
       "    }\n",
       "</style>\n",
       "<table border=\"1\" class=\"dataframe\">\n",
       "  <thead>\n",
       "    <tr style=\"text-align: right;\">\n",
       "      <th></th>\n",
       "      <th>Phoenix</th>\n",
       "      <th>San Jose</th>\n",
       "      <th>Los Angeles</th>\n",
       "      <th>San Diego</th>\n",
       "      <th>Category</th>\n",
       "    </tr>\n",
       "  </thead>\n",
       "  <tbody>\n",
       "    <tr>\n",
       "      <th>0</th>\n",
       "      <td>1.143312</td>\n",
       "      <td>0.297464</td>\n",
       "      <td>1.796354</td>\n",
       "      <td>0.611989</td>\n",
       "      <td>Dry</td>\n",
       "    </tr>\n",
       "    <tr>\n",
       "      <th>1</th>\n",
       "      <td>1.095238</td>\n",
       "      <td>0.265896</td>\n",
       "      <td>1.736000</td>\n",
       "      <td>0.623116</td>\n",
       "      <td>Light</td>\n",
       "    </tr>\n",
       "    <tr>\n",
       "      <th>2</th>\n",
       "      <td>0.827957</td>\n",
       "      <td>0.351351</td>\n",
       "      <td>2.037037</td>\n",
       "      <td>0.560976</td>\n",
       "      <td>Moderate</td>\n",
       "    </tr>\n",
       "    <tr>\n",
       "      <th>3</th>\n",
       "      <td>1.250000</td>\n",
       "      <td>0.361111</td>\n",
       "      <td>2.000000</td>\n",
       "      <td>0.904762</td>\n",
       "      <td>Heavy</td>\n",
       "    </tr>\n",
       "    <tr>\n",
       "      <th>4</th>\n",
       "      <td>1.250000</td>\n",
       "      <td>1.000000</td>\n",
       "      <td>1.500000</td>\n",
       "      <td>0.833333</td>\n",
       "      <td>Very Heavy</td>\n",
       "    </tr>\n",
       "  </tbody>\n",
       "</table>\n",
       "</div>"
      ],
      "text/plain": [
       "    Phoenix  San Jose  Los Angeles  San Diego    Category\n",
       "0  1.143312  0.297464     1.796354   0.611989         Dry\n",
       "1  1.095238  0.265896     1.736000   0.623116       Light\n",
       "2  0.827957  0.351351     2.037037   0.560976    Moderate\n",
       "3  1.250000  0.361111     2.000000   0.904762       Heavy\n",
       "4  1.250000  1.000000     1.500000   0.833333  Very Heavy"
      ]
     },
     "execution_count": 21,
     "metadata": {},
     "output_type": "execute_result"
    }
   ],
   "source": [
    "df_nice"
   ]
  },
  {
   "cell_type": "markdown",
   "metadata": {},
   "source": [
    "##### Create a list to hold our p-values"
   ]
  },
  {
   "cell_type": "code",
   "execution_count": 22,
   "metadata": {},
   "outputs": [],
   "source": [
    "pvalues = []"
   ]
  },
  {
   "cell_type": "markdown",
   "metadata": {},
   "source": [
    "###### Change in Fatal Accident Rate from Dry to Light Precipitation: T-Test"
   ]
  },
  {
   "cell_type": "code",
   "execution_count": 23,
   "metadata": {},
   "outputs": [
    {
     "data": {
      "text/plain": [
       "Ttest_indResult(statistic=-1.8299167917538479, pvalue=0.10479922027807929)"
      ]
     },
     "execution_count": 23,
     "metadata": {},
     "output_type": "execute_result"
    }
   ],
   "source": [
    "# Calculate the fractional change for each city and run the two independent group t-test\n",
    "light_bad = ((df_bad.iloc[1,0:6] - df_bad.iloc[0,0:6])/df_bad.iloc[0,0:6]).tolist()\n",
    "light_nice = ((df_nice.iloc[1,0:4] - df_nice.iloc[0,0:4])/df_nice.iloc[0,0:4]).tolist()\n",
    "sts.ttest_ind(light_bad,light_nice,equal_var=False)"
   ]
  },
  {
   "cell_type": "code",
   "execution_count": 24,
   "metadata": {},
   "outputs": [],
   "source": [
    "pvalues.append(sts.ttest_ind(light_bad,light_nice,equal_var=False)[1])"
   ]
  },
  {
   "cell_type": "markdown",
   "metadata": {},
   "source": [
    "###### Change in Fatal Accident Rate from Dry to Moderate Precipitation: T-Test"
   ]
  },
  {
   "cell_type": "code",
   "execution_count": 25,
   "metadata": {},
   "outputs": [
    {
     "data": {
      "text/plain": [
       "Ttest_indResult(statistic=-0.58873603706524247, pvalue=0.58167059170727498)"
      ]
     },
     "execution_count": 25,
     "metadata": {},
     "output_type": "execute_result"
    }
   ],
   "source": [
    "# Calculate the fractional change for each city and run the two independent group t-test\n",
    "moderate_bad = ((df_bad.iloc[2,0:6] - df_bad.iloc[0,0:6])/df_bad.iloc[0,0:6]).tolist()\n",
    "moderate_nice = ((df_nice.iloc[2,0:4] - df_nice.iloc[0,0:4])/df_nice.iloc[0,0:4]).tolist()\n",
    "sts.ttest_ind(moderate_bad,moderate_nice,equal_var=False)"
   ]
  },
  {
   "cell_type": "code",
   "execution_count": 26,
   "metadata": {},
   "outputs": [],
   "source": [
    "pvalues.append(sts.ttest_ind(moderate_bad,moderate_nice,equal_var=False)[1])"
   ]
  },
  {
   "cell_type": "markdown",
   "metadata": {},
   "source": [
    "###### Change in Fatal Accident Rate from Dry to Heavy Precipitation: T-Test"
   ]
  },
  {
   "cell_type": "code",
   "execution_count": 27,
   "metadata": {},
   "outputs": [
    {
     "data": {
      "text/plain": [
       "Ttest_indResult(statistic=-3.17629218092857, pvalue=0.030571293647607953)"
      ]
     },
     "execution_count": 27,
     "metadata": {},
     "output_type": "execute_result"
    }
   ],
   "source": [
    "# Calculate the fractional change for each city and run the two independent group t-test\n",
    "heavy_bad = ((df_bad.iloc[3,0:6] - df_bad.iloc[0,0:6])/df_bad.iloc[0,0:6]).tolist()\n",
    "heavy_nice = ((df_nice.iloc[3,0:4] - df_nice.iloc[0,0:4])/df_nice.iloc[0,0:4]).tolist()\n",
    "sts.ttest_ind(heavy_bad,heavy_nice,equal_var=False)"
   ]
  },
  {
   "cell_type": "code",
   "execution_count": 28,
   "metadata": {},
   "outputs": [],
   "source": [
    "pvalues.append(sts.ttest_ind(heavy_bad,heavy_nice,equal_var=False)[1])"
   ]
  },
  {
   "cell_type": "markdown",
   "metadata": {},
   "source": [
    "###### Change in Fatal Accident Rate from Dry to Very Heavy Precipitation: T-Test"
   ]
  },
  {
   "cell_type": "code",
   "execution_count": 29,
   "metadata": {},
   "outputs": [
    {
     "data": {
      "text/plain": [
       "Ttest_indResult(statistic=-1.5118470232805001, pvalue=0.22413214852168137)"
      ]
     },
     "execution_count": 29,
     "metadata": {},
     "output_type": "execute_result"
    }
   ],
   "source": [
    "# Calculate the fractional change for each city and run the two independent group t-test\n",
    "very_heavy_bad = ((df_bad.iloc[4,0:6] - df_bad.iloc[0,0:6])/df_bad.iloc[0,0:6]).tolist()\n",
    "very_heavy_nice = ((df_nice.iloc[4,0:4] - df_nice.iloc[0,0:4])/df_nice.iloc[0,0:4]).tolist()\n",
    "sts.ttest_ind(very_heavy_bad,very_heavy_nice,equal_var=False)"
   ]
  },
  {
   "cell_type": "code",
   "execution_count": 30,
   "metadata": {},
   "outputs": [],
   "source": [
    "pvalues.append(sts.ttest_ind(very_heavy_bad,very_heavy_nice,equal_var=False)[1])"
   ]
  },
  {
   "cell_type": "markdown",
   "metadata": {},
   "source": [
    "##### p-values visualization"
   ]
  },
  {
   "cell_type": "code",
   "execution_count": 31,
   "metadata": {},
   "outputs": [
    {
     "data": {
      "image/png": "[encoded data removed]",
      "text/plain": [
       "<Figure size 432x432 with 1 Axes>"
      ]
     },
     "metadata": {
      "needs_background": "light"
     },
     "output_type": "display_data"
    }
   ],
   "source": [
    "# Construct a plot showing our p values\n",
    "fig,ax = plt.subplots(figsize=(6,6))\n",
    "\n",
    "plt.scatter(np.arange(0,4),pvalues,s=100,marker='x')\n",
    "plt.grid('True')\n",
    "plt.xticks(np.arange(0,4),labels=['Light','Moderate','Heavy','Very Heavy'])\n",
    "plt.xlabel('Precipitation Category')\n",
    "plt.ylabel('p value (Bad vs Nice Weather Groups)')\n",
    "plt.title('T-test p values across precipitation categories')\n",
    "plt.show()"
   ]
  },
  {
   "cell_type": "markdown",
   "metadata": {},
   "source": [
    "### Conclusions"
   ]
  },
  {
   "cell_type": "markdown",
   "metadata": {},
   "source": [
    "In three of the four precipitation categories (Light, Moderate, Very Heavy), higher p values indicate that we cannot reject the null hypothesis H0: \n",
    " - *For the top 10 cities by population, cities with typically drier weather (as determined by average annual precipitation) do not observe a change in fatal accident rate on rainy days that is statistically different from the change in rate for cities with typically wetter weather.*\n",
    "\n",
    "---\n",
    "For the last category (Heavy: Precipitation of 0.5\"-1.49\"), we obtained a p-value of approximately 0.03. In this category, our wetter cities observed a mean decrease in fatal accident rate of 8.5%, while our drier cities observed a mean increase in fatal accident rate of 22.5%. \n",
    "\n",
    "For the case of heavy rain days, this p-value tells us that if we assume H0 to be true, there is only a 3% probability that we would observe a difference between our groups that is at least this extreme."
   ]
  }
 ],
 "metadata": {
  "kernelspec": {
   "display_name": "Python 3",
   "language": "python",
   "name": "python3"
  },
  "language_info": {
   "codemirror_mode": {
    "name": "ipython",
    "version": 3
   },
   "file_extension": ".py",
   "mimetype": "text/x-python",
   "name": "python",
   "nbconvert_exporter": "python",
   "pygments_lexer": "ipython3",
   "version": "3.6.9"
  }
 },
 "nbformat": 4,
 "nbformat_minor": 2
}
