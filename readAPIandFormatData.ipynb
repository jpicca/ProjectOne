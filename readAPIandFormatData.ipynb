{
 "cells": [
  {
   "cell_type": "markdown",
   "metadata": {},
   "source": [
    "# Read NHTSA API, Merge with Weather Data, & Format/Explore\n",
    "\n",
    "#### Project Members: Ming Gao, Monica Moussavi, Joey Picca, Rohan Kancharla\n",
    "\n",
    "This notebook reads fatal accident data from the NHTSA's API and formats this data such that it can be merged with weather datasets. This way, we can investigate changes in accident rates across different levels of precipitation."
   ]
  },
  {
   "cell_type": "code",
   "execution_count": 48,
   "metadata": {},
   "outputs": [],
   "source": [
    "import requests\n",
    "import numpy as np\n",
    "from datetime import datetime\n",
    "import pandas as pd\n",
    "import matplotlib.pyplot as plt\n",
    "import seaborn as sns"
   ]
  },
  {
   "cell_type": "markdown",
   "metadata": {},
   "source": [
    "### Set up API request"
   ]
  },
  {
   "cell_type": "code",
   "execution_count": 2,
   "metadata": {},
   "outputs": [],
   "source": [
    "base_url = 'https://crashviewer.nhtsa.dot.gov/CrashAPI/crashes/GetCaseList?'"
   ]
  },
  {
   "cell_type": "code",
   "execution_count": 3,
   "metadata": {},
   "outputs": [],
   "source": [
    "params = {\n",
    "    'states':'42',\n",
    "    'fromYear':'2014',\n",
    "    'toYear':'2014',\n",
    "    'minNumOfVehicles':'1',\n",
    "    'maxNumOfVehicles':'20',\n",
    "    'format':'json'\n",
    "}"
   ]
  },
  {
   "cell_type": "markdown",
   "metadata": {},
   "source": [
    "### Make API requests\n",
    "Note: This is performed for every state, using the state code, we wish to query for accident info.\n",
    "In our case, that's New York (36), California (6), Illinois (17), Texas (48), Arizona (4), and Pennsylvania (42)"
   ]
  },
  {
   "cell_type": "code",
   "execution_count": 4,
   "metadata": {},
   "outputs": [],
   "source": [
    "# We need to loop through years to reduce the number of returns from the API call\n",
    "states = ['36','6','17','48','4','42']\n",
    "years = ['2014','2015','2016','2017','2018']\n",
    "\n",
    "counties, date, deaths, caseNum, vehicleNum = [],[],[],[],[]\n",
    "\n",
    "for state in states:\n",
    "    params['states'] = state\n",
    "    for year in years:\n",
    "        params['fromYear'] = year\n",
    "        params['toYear'] = year\n",
    "\n",
    "        response = requests.get(base_url,params=params)\n",
    "\n",
    "        crashList = response.json()['Results'][0]\n",
    "\n",
    "        # Loop through the accident list in the returned json and append accident details to our list\n",
    "        for crash in crashList:\n",
    "\n",
    "            counties.append(crash[\"CountyName\"])\n",
    "            date.append(crash['CrashDate'])\n",
    "            deaths.append(crash['Fatals'])\n",
    "            caseNum.append(crash['St_Case'])\n",
    "            vehicleNum.append(crash['TotalVehicles'])"
   ]
  },
  {
   "cell_type": "markdown",
   "metadata": {},
   "source": [
    "### Format dataframes for each city/county combo"
   ]
  },
  {
   "cell_type": "code",
   "execution_count": 5,
   "metadata": {
    "scrolled": true
   },
   "outputs": [],
   "source": [
    "# Use the previously created lists to create a dataframe\n",
    "df = pd.DataFrame({'County':counties,'Date':date,'Deaths':deaths,'Case':caseNum,'Vehicles':vehicleNum})"
   ]
  },
  {
   "cell_type": "code",
   "execution_count": 6,
   "metadata": {},
   "outputs": [],
   "source": [
    "# For each state, make a dataframe using the county of interest for our selected cities in that state\n",
    "# \n",
    "# Texas: Dallas (Dallas Co), Houston (Harris Co), San Antonio (Bexar Co)\n",
    "# New York: New York City (New York Co, Richmond Co, Kings Co, Queens Co, Bronx Co)\n",
    "# California: Los Angeles (Los Angeles Co), San Jose (Santa Clara Co), San Diego (San Diego Co)\n",
    "# Illinois: Chicago (Cook Co)\n",
    "# Arizona: Phoenix (Maricopa Co)\n",
    "# Pennsylvania: Philadelphia (Philadelphia Co)\n",
    "\n",
    "dfPA = df[(df['County'] == 'PHILADELPHIA (101)')]\n",
    "dfTX = df[(df['County'] == 'DALLAS (113)') | (df['County'] == 'HARRIS (201)') |\n",
    "         (df['County'] == 'BEXAR (29)')]\n",
    "dfNY = df[(df['County'] == 'QUEENS (81)') | (df['County'] == 'RICHMOND (85)') |\n",
    "         (df['County'] == 'KINGS (47)') | (df['County'] == 'BRONX (5)') |\n",
    "         (df['County'] == 'NEW YORK (61)')]\n",
    "dfCA = df[(df['County'] == 'LOS ANGELES (37)') | (df['County'] == 'SAN DIEGO (73)') |\n",
    "         (df['County'] == 'SANTA CLARA (85)')]\n",
    "dfAZ = df[(df['County'] == 'MARICOPA (13)')]\n",
    "dfIL = df[(df['County'] == 'COOK (31)')]"
   ]
  },
  {
   "cell_type": "code",
   "execution_count": 7,
   "metadata": {},
   "outputs": [
    {
     "data": {
      "text/html": [
       "<div>\n",
       "<style scoped>\n",
       "    .dataframe tbody tr th:only-of-type {\n",
       "        vertical-align: middle;\n",
       "    }\n",
       "\n",
       "    .dataframe tbody tr th {\n",
       "        vertical-align: top;\n",
       "    }\n",
       "\n",
       "    .dataframe thead th {\n",
       "        text-align: right;\n",
       "    }\n",
       "</style>\n",
       "<table border=\"1\" class=\"dataframe\">\n",
       "  <thead>\n",
       "    <tr style=\"text-align: right;\">\n",
       "      <th></th>\n",
       "      <th>County</th>\n",
       "      <th>Date</th>\n",
       "      <th>Deaths</th>\n",
       "      <th>Case</th>\n",
       "      <th>Vehicles</th>\n",
       "    </tr>\n",
       "  </thead>\n",
       "  <tbody>\n",
       "    <tr>\n",
       "      <th>46607</th>\n",
       "      <td>PHILADELPHIA (101)</td>\n",
       "      <td>/Date(1390794300000-0500)/</td>\n",
       "      <td>1</td>\n",
       "      <td>420031</td>\n",
       "      <td>1</td>\n",
       "    </tr>\n",
       "    <tr>\n",
       "      <th>46608</th>\n",
       "      <td>PHILADELPHIA (101)</td>\n",
       "      <td>/Date(1389050280000-0500)/</td>\n",
       "      <td>1</td>\n",
       "      <td>420032</td>\n",
       "      <td>1</td>\n",
       "    </tr>\n",
       "    <tr>\n",
       "      <th>46640</th>\n",
       "      <td>PHILADELPHIA (101)</td>\n",
       "      <td>/Date(1391352360000-0500)/</td>\n",
       "      <td>1</td>\n",
       "      <td>420064</td>\n",
       "      <td>1</td>\n",
       "    </tr>\n",
       "    <tr>\n",
       "      <th>46647</th>\n",
       "      <td>PHILADELPHIA (101)</td>\n",
       "      <td>/Date(1393044420000-0500)/</td>\n",
       "      <td>1</td>\n",
       "      <td>420071</td>\n",
       "      <td>1</td>\n",
       "    </tr>\n",
       "    <tr>\n",
       "      <th>46650</th>\n",
       "      <td>PHILADELPHIA (101)</td>\n",
       "      <td>/Date(1392714180000-0500)/</td>\n",
       "      <td>1</td>\n",
       "      <td>420074</td>\n",
       "      <td>2</td>\n",
       "    </tr>\n",
       "  </tbody>\n",
       "</table>\n",
       "</div>"
      ],
      "text/plain": [
       "                   County                        Date  Deaths    Case  \\\n",
       "46607  PHILADELPHIA (101)  /Date(1390794300000-0500)/       1  420031   \n",
       "46608  PHILADELPHIA (101)  /Date(1389050280000-0500)/       1  420032   \n",
       "46640  PHILADELPHIA (101)  /Date(1391352360000-0500)/       1  420064   \n",
       "46647  PHILADELPHIA (101)  /Date(1393044420000-0500)/       1  420071   \n",
       "46650  PHILADELPHIA (101)  /Date(1392714180000-0500)/       1  420074   \n",
       "\n",
       "       Vehicles  \n",
       "46607         1  \n",
       "46608         1  \n",
       "46640         1  \n",
       "46647         1  \n",
       "46650         2  "
      ]
     },
     "execution_count": 7,
     "metadata": {},
     "output_type": "execute_result"
    }
   ],
   "source": [
    "# Example of the accident dataframe for Philadelphia\n",
    "dfPA.head()"
   ]
  },
  {
   "cell_type": "code",
   "execution_count": 8,
   "metadata": {
    "scrolled": true
   },
   "outputs": [],
   "source": [
    "# Since we pulled only specific counties from the original state dataframe, let's clean up the index\n",
    "dfPA = dfPA.reset_index(drop = True)\n",
    "dfTX = dfTX.reset_index(drop = True)\n",
    "dfCA = dfCA.reset_index(drop = True)\n",
    "dfNY = dfNY.reset_index(drop = True)\n",
    "dfAZ = dfAZ.reset_index(drop = True)\n",
    "dfIL = dfIL.reset_index(drop = True)"
   ]
  },
  {
   "cell_type": "code",
   "execution_count": 9,
   "metadata": {},
   "outputs": [],
   "source": [
    "# Use a for loop to loop through the rows of the dataframe and change the date column to something merge-able\n",
    "# with our weather data. It was discovered during date conversion that a few dates are misformatted in the API.\n",
    "# Thus, we had to change from using a map(lambda x: ...) to a try and except to catch returned errors.\n",
    "def dateCleaner(df):\n",
    "    for index, row in df.iterrows():\n",
    "\n",
    "        try:\n",
    "\n",
    "            df.loc[index,'Date'] = datetime.fromtimestamp((int(row['Date'].split('-')[0][6:])+3600000)/1000).strftime('%Y-%m-%d')\n",
    "\n",
    "        except:\n",
    "\n",
    "            df.loc[index,'Date'] = np.nan"
   ]
  },
  {
   "cell_type": "code",
   "execution_count": 10,
   "metadata": {},
   "outputs": [],
   "source": [
    "# Run the date cleaner on our dataframes\n",
    "dateCleaner(dfPA)\n",
    "dateCleaner(dfTX)\n",
    "dateCleaner(dfNY)\n",
    "dateCleaner(dfCA)\n",
    "dateCleaner(dfIL)\n",
    "dateCleaner(dfAZ)"
   ]
  },
  {
   "cell_type": "code",
   "execution_count": 11,
   "metadata": {},
   "outputs": [
    {
     "data": {
      "text/html": [
       "<div>\n",
       "<style scoped>\n",
       "    .dataframe tbody tr th:only-of-type {\n",
       "        vertical-align: middle;\n",
       "    }\n",
       "\n",
       "    .dataframe tbody tr th {\n",
       "        vertical-align: top;\n",
       "    }\n",
       "\n",
       "    .dataframe thead th {\n",
       "        text-align: right;\n",
       "    }\n",
       "</style>\n",
       "<table border=\"1\" class=\"dataframe\">\n",
       "  <thead>\n",
       "    <tr style=\"text-align: right;\">\n",
       "      <th></th>\n",
       "      <th>County</th>\n",
       "      <th>Date</th>\n",
       "      <th>Deaths</th>\n",
       "      <th>Case</th>\n",
       "      <th>Vehicles</th>\n",
       "    </tr>\n",
       "  </thead>\n",
       "  <tbody>\n",
       "    <tr>\n",
       "      <th>0</th>\n",
       "      <td>BEXAR (29)</td>\n",
       "      <td>2014-01-01</td>\n",
       "      <td>1</td>\n",
       "      <td>480001</td>\n",
       "      <td>2</td>\n",
       "    </tr>\n",
       "    <tr>\n",
       "      <th>1</th>\n",
       "      <td>DALLAS (113)</td>\n",
       "      <td>2014-01-01</td>\n",
       "      <td>1</td>\n",
       "      <td>480002</td>\n",
       "      <td>1</td>\n",
       "    </tr>\n",
       "    <tr>\n",
       "      <th>2</th>\n",
       "      <td>DALLAS (113)</td>\n",
       "      <td>2014-01-01</td>\n",
       "      <td>2</td>\n",
       "      <td>480003</td>\n",
       "      <td>2</td>\n",
       "    </tr>\n",
       "    <tr>\n",
       "      <th>3</th>\n",
       "      <td>HARRIS (201)</td>\n",
       "      <td>2014-01-01</td>\n",
       "      <td>1</td>\n",
       "      <td>480006</td>\n",
       "      <td>2</td>\n",
       "    </tr>\n",
       "    <tr>\n",
       "      <th>4</th>\n",
       "      <td>HARRIS (201)</td>\n",
       "      <td>2014-01-01</td>\n",
       "      <td>1</td>\n",
       "      <td>480007</td>\n",
       "      <td>1</td>\n",
       "    </tr>\n",
       "  </tbody>\n",
       "</table>\n",
       "</div>"
      ],
      "text/plain": [
       "         County        Date  Deaths    Case  Vehicles\n",
       "0    BEXAR (29)  2014-01-01       1  480001         2\n",
       "1  DALLAS (113)  2014-01-01       1  480002         1\n",
       "2  DALLAS (113)  2014-01-01       2  480003         2\n",
       "3  HARRIS (201)  2014-01-01       1  480006         2\n",
       "4  HARRIS (201)  2014-01-01       1  480007         1"
      ]
     },
     "execution_count": 11,
     "metadata": {},
     "output_type": "execute_result"
    }
   ],
   "source": [
    "# The date has been converted to a friendlier format\n",
    "dfTX.head()"
   ]
  },
  {
   "cell_type": "code",
   "execution_count": 12,
   "metadata": {},
   "outputs": [],
   "source": [
    "# Read in our weather datasets that were compiled from: http://xmacis.rcc-acis.org/\n",
    "\n",
    "dalWx = pd.read_csv('./data/clean/dfwClean.csv')\n",
    "nycWx = pd.read_csv('./data/clean/nycClean.csv')\n",
    "laWx = pd.read_csv('./data/clean/laClean.csv')\n",
    "chiWx = pd.read_csv('./data/clean/chiClean.csv')\n",
    "houWx = pd.read_csv('./data/clean/houClean.csv')\n",
    "phxWx = pd.read_csv('./data/clean/phxClean.csv')\n",
    "phlWx = pd.read_csv('./data/clean/phlClean.csv')\n",
    "sdWx = pd.read_csv('./data/clean/sdClean.csv')\n",
    "sjWx = pd.read_csv('./data/clean/sjClean.csv')\n",
    "saWx = pd.read_csv('./data/clean/saClean.csv')"
   ]
  },
  {
   "cell_type": "markdown",
   "metadata": {},
   "source": [
    "#### Merge weather data with accident data for our individual cities/counties\n",
    "- Note: If we haven't already pulled the specific county rows from the state dataframe, we do so now. Also, we add a \"City\" column so that when we merge all of these dataframes into a master df, we associate each row to a specific city.\n",
    "\n",
    "- Second note: We perform a left merge with the weather dataframe as the left df. We want to keep every date, accident or not."
   ]
  },
  {
   "cell_type": "markdown",
   "metadata": {},
   "source": [
    "##### Dallas"
   ]
  },
  {
   "cell_type": "code",
   "execution_count": 13,
   "metadata": {},
   "outputs": [],
   "source": [
    "dfdal = dfTX[dfTX['County'] == 'DALLAS (113)']"
   ]
  },
  {
   "cell_type": "code",
   "execution_count": 14,
   "metadata": {},
   "outputs": [
    {
     "data": {
      "text/html": [
       "<div>\n",
       "<style scoped>\n",
       "    .dataframe tbody tr th:only-of-type {\n",
       "        vertical-align: middle;\n",
       "    }\n",
       "\n",
       "    .dataframe tbody tr th {\n",
       "        vertical-align: top;\n",
       "    }\n",
       "\n",
       "    .dataframe thead th {\n",
       "        text-align: right;\n",
       "    }\n",
       "</style>\n",
       "<table border=\"1\" class=\"dataframe\">\n",
       "  <thead>\n",
       "    <tr style=\"text-align: right;\">\n",
       "      <th></th>\n",
       "      <th>Date</th>\n",
       "      <th>MaxTemp</th>\n",
       "      <th>MinTemp</th>\n",
       "      <th>Precipitation</th>\n",
       "      <th>County</th>\n",
       "      <th>Deaths</th>\n",
       "      <th>Case</th>\n",
       "      <th>Vehicles</th>\n",
       "      <th>City</th>\n",
       "    </tr>\n",
       "  </thead>\n",
       "  <tbody>\n",
       "    <tr>\n",
       "      <th>0</th>\n",
       "      <td>2014-01-01</td>\n",
       "      <td>69</td>\n",
       "      <td>31</td>\n",
       "      <td>0.0</td>\n",
       "      <td>DALLAS (113)</td>\n",
       "      <td>1.0</td>\n",
       "      <td>480002.0</td>\n",
       "      <td>1.0</td>\n",
       "      <td>Dallas</td>\n",
       "    </tr>\n",
       "    <tr>\n",
       "      <th>1</th>\n",
       "      <td>2014-01-01</td>\n",
       "      <td>69</td>\n",
       "      <td>31</td>\n",
       "      <td>0.0</td>\n",
       "      <td>DALLAS (113)</td>\n",
       "      <td>2.0</td>\n",
       "      <td>480003.0</td>\n",
       "      <td>2.0</td>\n",
       "      <td>Dallas</td>\n",
       "    </tr>\n",
       "    <tr>\n",
       "      <th>2</th>\n",
       "      <td>2014-01-01</td>\n",
       "      <td>69</td>\n",
       "      <td>31</td>\n",
       "      <td>0.0</td>\n",
       "      <td>DALLAS (113)</td>\n",
       "      <td>1.0</td>\n",
       "      <td>480182.0</td>\n",
       "      <td>2.0</td>\n",
       "      <td>Dallas</td>\n",
       "    </tr>\n",
       "    <tr>\n",
       "      <th>3</th>\n",
       "      <td>2014-01-02</td>\n",
       "      <td>43</td>\n",
       "      <td>25</td>\n",
       "      <td>0.0</td>\n",
       "      <td>NaN</td>\n",
       "      <td>NaN</td>\n",
       "      <td>NaN</td>\n",
       "      <td>NaN</td>\n",
       "      <td>Dallas</td>\n",
       "    </tr>\n",
       "    <tr>\n",
       "      <th>4</th>\n",
       "      <td>2014-01-03</td>\n",
       "      <td>52</td>\n",
       "      <td>25</td>\n",
       "      <td>0.0</td>\n",
       "      <td>NaN</td>\n",
       "      <td>NaN</td>\n",
       "      <td>NaN</td>\n",
       "      <td>NaN</td>\n",
       "      <td>Dallas</td>\n",
       "    </tr>\n",
       "  </tbody>\n",
       "</table>\n",
       "</div>"
      ],
      "text/plain": [
       "         Date  MaxTemp  MinTemp  Precipitation        County  Deaths  \\\n",
       "0  2014-01-01       69       31            0.0  DALLAS (113)     1.0   \n",
       "1  2014-01-01       69       31            0.0  DALLAS (113)     2.0   \n",
       "2  2014-01-01       69       31            0.0  DALLAS (113)     1.0   \n",
       "3  2014-01-02       43       25            0.0           NaN     NaN   \n",
       "4  2014-01-03       52       25            0.0           NaN     NaN   \n",
       "\n",
       "       Case  Vehicles    City  \n",
       "0  480002.0       1.0  Dallas  \n",
       "1  480003.0       2.0  Dallas  \n",
       "2  480182.0       2.0  Dallas  \n",
       "3       NaN       NaN  Dallas  \n",
       "4       NaN       NaN  Dallas  "
      ]
     },
     "execution_count": 14,
     "metadata": {},
     "output_type": "execute_result"
    }
   ],
   "source": [
    "dalMerged = pd.merge(dalWx,dfdal,on='Date',how='left')\n",
    "dalMerged.loc[:,'City'] = 'Dallas'\n",
    "dalMerged.head()"
   ]
  },
  {
   "cell_type": "markdown",
   "metadata": {},
   "source": [
    "##### NYC"
   ]
  },
  {
   "cell_type": "code",
   "execution_count": 15,
   "metadata": {},
   "outputs": [
    {
     "data": {
      "text/html": [
       "<div>\n",
       "<style scoped>\n",
       "    .dataframe tbody tr th:only-of-type {\n",
       "        vertical-align: middle;\n",
       "    }\n",
       "\n",
       "    .dataframe tbody tr th {\n",
       "        vertical-align: top;\n",
       "    }\n",
       "\n",
       "    .dataframe thead th {\n",
       "        text-align: right;\n",
       "    }\n",
       "</style>\n",
       "<table border=\"1\" class=\"dataframe\">\n",
       "  <thead>\n",
       "    <tr style=\"text-align: right;\">\n",
       "      <th></th>\n",
       "      <th>Date</th>\n",
       "      <th>MaxTemp</th>\n",
       "      <th>MinTemp</th>\n",
       "      <th>Precipitation</th>\n",
       "      <th>County</th>\n",
       "      <th>Deaths</th>\n",
       "      <th>Case</th>\n",
       "      <th>Vehicles</th>\n",
       "      <th>City</th>\n",
       "    </tr>\n",
       "  </thead>\n",
       "  <tbody>\n",
       "    <tr>\n",
       "      <th>0</th>\n",
       "      <td>2014-01-01</td>\n",
       "      <td>33</td>\n",
       "      <td>24</td>\n",
       "      <td>0.00</td>\n",
       "      <td>QUEENS (81)</td>\n",
       "      <td>1.0</td>\n",
       "      <td>360002.0</td>\n",
       "      <td>1.0</td>\n",
       "      <td>New York City</td>\n",
       "    </tr>\n",
       "    <tr>\n",
       "      <th>1</th>\n",
       "      <td>2014-01-01</td>\n",
       "      <td>33</td>\n",
       "      <td>24</td>\n",
       "      <td>0.00</td>\n",
       "      <td>RICHMOND (85)</td>\n",
       "      <td>1.0</td>\n",
       "      <td>360007.0</td>\n",
       "      <td>3.0</td>\n",
       "      <td>New York City</td>\n",
       "    </tr>\n",
       "    <tr>\n",
       "      <th>2</th>\n",
       "      <td>2014-01-02</td>\n",
       "      <td>33</td>\n",
       "      <td>18</td>\n",
       "      <td>0.33</td>\n",
       "      <td>QUEENS (81)</td>\n",
       "      <td>1.0</td>\n",
       "      <td>360005.0</td>\n",
       "      <td>2.0</td>\n",
       "      <td>New York City</td>\n",
       "    </tr>\n",
       "    <tr>\n",
       "      <th>3</th>\n",
       "      <td>2014-01-02</td>\n",
       "      <td>33</td>\n",
       "      <td>18</td>\n",
       "      <td>0.33</td>\n",
       "      <td>KINGS (47)</td>\n",
       "      <td>1.0</td>\n",
       "      <td>360006.0</td>\n",
       "      <td>2.0</td>\n",
       "      <td>New York City</td>\n",
       "    </tr>\n",
       "    <tr>\n",
       "      <th>4</th>\n",
       "      <td>2014-01-02</td>\n",
       "      <td>33</td>\n",
       "      <td>18</td>\n",
       "      <td>0.33</td>\n",
       "      <td>BRONX (5)</td>\n",
       "      <td>1.0</td>\n",
       "      <td>360820.0</td>\n",
       "      <td>1.0</td>\n",
       "      <td>New York City</td>\n",
       "    </tr>\n",
       "  </tbody>\n",
       "</table>\n",
       "</div>"
      ],
      "text/plain": [
       "         Date  MaxTemp  MinTemp  Precipitation         County  Deaths  \\\n",
       "0  2014-01-01       33       24           0.00    QUEENS (81)     1.0   \n",
       "1  2014-01-01       33       24           0.00  RICHMOND (85)     1.0   \n",
       "2  2014-01-02       33       18           0.33    QUEENS (81)     1.0   \n",
       "3  2014-01-02       33       18           0.33     KINGS (47)     1.0   \n",
       "4  2014-01-02       33       18           0.33      BRONX (5)     1.0   \n",
       "\n",
       "       Case  Vehicles           City  \n",
       "0  360002.0       1.0  New York City  \n",
       "1  360007.0       3.0  New York City  \n",
       "2  360005.0       2.0  New York City  \n",
       "3  360006.0       2.0  New York City  \n",
       "4  360820.0       1.0  New York City  "
      ]
     },
     "execution_count": 15,
     "metadata": {},
     "output_type": "execute_result"
    }
   ],
   "source": [
    "nycmerged = pd.merge(nycWx,dfNY,on='Date',how='left')\n",
    "nycmerged.loc[:,'City'] = 'New York City'\n",
    "nycmerged.head()"
   ]
  },
  {
   "cell_type": "markdown",
   "metadata": {},
   "source": [
    "##### LA"
   ]
  },
  {
   "cell_type": "code",
   "execution_count": 16,
   "metadata": {},
   "outputs": [],
   "source": [
    "dfla = dfCA[dfCA['County'] == 'LOS ANGELES (37)']"
   ]
  },
  {
   "cell_type": "code",
   "execution_count": 17,
   "metadata": {},
   "outputs": [
    {
     "data": {
      "text/html": [
       "<div>\n",
       "<style scoped>\n",
       "    .dataframe tbody tr th:only-of-type {\n",
       "        vertical-align: middle;\n",
       "    }\n",
       "\n",
       "    .dataframe tbody tr th {\n",
       "        vertical-align: top;\n",
       "    }\n",
       "\n",
       "    .dataframe thead th {\n",
       "        text-align: right;\n",
       "    }\n",
       "</style>\n",
       "<table border=\"1\" class=\"dataframe\">\n",
       "  <thead>\n",
       "    <tr style=\"text-align: right;\">\n",
       "      <th></th>\n",
       "      <th>Date</th>\n",
       "      <th>MaxTemp</th>\n",
       "      <th>MinTemp</th>\n",
       "      <th>Precipitation</th>\n",
       "      <th>County</th>\n",
       "      <th>Deaths</th>\n",
       "      <th>Case</th>\n",
       "      <th>Vehicles</th>\n",
       "      <th>City</th>\n",
       "    </tr>\n",
       "  </thead>\n",
       "  <tbody>\n",
       "    <tr>\n",
       "      <th>0</th>\n",
       "      <td>2014-01-01</td>\n",
       "      <td>64</td>\n",
       "      <td>46</td>\n",
       "      <td>0.0</td>\n",
       "      <td>NaN</td>\n",
       "      <td>NaN</td>\n",
       "      <td>NaN</td>\n",
       "      <td>NaN</td>\n",
       "      <td>Los Angeles</td>\n",
       "    </tr>\n",
       "    <tr>\n",
       "      <th>1</th>\n",
       "      <td>2014-01-02</td>\n",
       "      <td>78</td>\n",
       "      <td>50</td>\n",
       "      <td>0.0</td>\n",
       "      <td>LOS ANGELES (37)</td>\n",
       "      <td>1.0</td>\n",
       "      <td>60012.0</td>\n",
       "      <td>1.0</td>\n",
       "      <td>Los Angeles</td>\n",
       "    </tr>\n",
       "    <tr>\n",
       "      <th>2</th>\n",
       "      <td>2014-01-02</td>\n",
       "      <td>78</td>\n",
       "      <td>50</td>\n",
       "      <td>0.0</td>\n",
       "      <td>LOS ANGELES (37)</td>\n",
       "      <td>1.0</td>\n",
       "      <td>60032.0</td>\n",
       "      <td>2.0</td>\n",
       "      <td>Los Angeles</td>\n",
       "    </tr>\n",
       "    <tr>\n",
       "      <th>3</th>\n",
       "      <td>2014-01-02</td>\n",
       "      <td>78</td>\n",
       "      <td>50</td>\n",
       "      <td>0.0</td>\n",
       "      <td>LOS ANGELES (37)</td>\n",
       "      <td>1.0</td>\n",
       "      <td>62670.0</td>\n",
       "      <td>1.0</td>\n",
       "      <td>Los Angeles</td>\n",
       "    </tr>\n",
       "    <tr>\n",
       "      <th>4</th>\n",
       "      <td>2014-01-03</td>\n",
       "      <td>64</td>\n",
       "      <td>47</td>\n",
       "      <td>0.0</td>\n",
       "      <td>LOS ANGELES (37)</td>\n",
       "      <td>1.0</td>\n",
       "      <td>60017.0</td>\n",
       "      <td>1.0</td>\n",
       "      <td>Los Angeles</td>\n",
       "    </tr>\n",
       "  </tbody>\n",
       "</table>\n",
       "</div>"
      ],
      "text/plain": [
       "         Date  MaxTemp  MinTemp  Precipitation            County  Deaths  \\\n",
       "0  2014-01-01       64       46            0.0               NaN     NaN   \n",
       "1  2014-01-02       78       50            0.0  LOS ANGELES (37)     1.0   \n",
       "2  2014-01-02       78       50            0.0  LOS ANGELES (37)     1.0   \n",
       "3  2014-01-02       78       50            0.0  LOS ANGELES (37)     1.0   \n",
       "4  2014-01-03       64       47            0.0  LOS ANGELES (37)     1.0   \n",
       "\n",
       "      Case  Vehicles         City  \n",
       "0      NaN       NaN  Los Angeles  \n",
       "1  60012.0       1.0  Los Angeles  \n",
       "2  60032.0       2.0  Los Angeles  \n",
       "3  62670.0       1.0  Los Angeles  \n",
       "4  60017.0       1.0  Los Angeles  "
      ]
     },
     "execution_count": 17,
     "metadata": {},
     "output_type": "execute_result"
    }
   ],
   "source": [
    "lamerged = pd.merge(laWx,dfla,on='Date',how='left')\n",
    "lamerged.loc[:,'City'] = 'Los Angeles'\n",
    "lamerged.head()"
   ]
  },
  {
   "cell_type": "markdown",
   "metadata": {},
   "source": [
    "##### Chicago"
   ]
  },
  {
   "cell_type": "code",
   "execution_count": 18,
   "metadata": {},
   "outputs": [
    {
     "data": {
      "text/html": [
       "<div>\n",
       "<style scoped>\n",
       "    .dataframe tbody tr th:only-of-type {\n",
       "        vertical-align: middle;\n",
       "    }\n",
       "\n",
       "    .dataframe tbody tr th {\n",
       "        vertical-align: top;\n",
       "    }\n",
       "\n",
       "    .dataframe thead th {\n",
       "        text-align: right;\n",
       "    }\n",
       "</style>\n",
       "<table border=\"1\" class=\"dataframe\">\n",
       "  <thead>\n",
       "    <tr style=\"text-align: right;\">\n",
       "      <th></th>\n",
       "      <th>Date</th>\n",
       "      <th>MaxTemp</th>\n",
       "      <th>MinTemp</th>\n",
       "      <th>Precipitation</th>\n",
       "      <th>County</th>\n",
       "      <th>Deaths</th>\n",
       "      <th>Case</th>\n",
       "      <th>Vehicles</th>\n",
       "      <th>City</th>\n",
       "    </tr>\n",
       "  </thead>\n",
       "  <tbody>\n",
       "    <tr>\n",
       "      <th>0</th>\n",
       "      <td>2014-01-01</td>\n",
       "      <td>22</td>\n",
       "      <td>10</td>\n",
       "      <td>0.25</td>\n",
       "      <td>COOK (31)</td>\n",
       "      <td>3.0</td>\n",
       "      <td>170111.0</td>\n",
       "      <td>1.0</td>\n",
       "      <td>Chicago</td>\n",
       "    </tr>\n",
       "    <tr>\n",
       "      <th>1</th>\n",
       "      <td>2014-01-02</td>\n",
       "      <td>21</td>\n",
       "      <td>-1</td>\n",
       "      <td>0.22</td>\n",
       "      <td>NaN</td>\n",
       "      <td>NaN</td>\n",
       "      <td>NaN</td>\n",
       "      <td>NaN</td>\n",
       "      <td>Chicago</td>\n",
       "    </tr>\n",
       "    <tr>\n",
       "      <th>2</th>\n",
       "      <td>2014-01-03</td>\n",
       "      <td>20</td>\n",
       "      <td>-12</td>\n",
       "      <td>0.00</td>\n",
       "      <td>NaN</td>\n",
       "      <td>NaN</td>\n",
       "      <td>NaN</td>\n",
       "      <td>NaN</td>\n",
       "      <td>Chicago</td>\n",
       "    </tr>\n",
       "    <tr>\n",
       "      <th>3</th>\n",
       "      <td>2014-01-04</td>\n",
       "      <td>31</td>\n",
       "      <td>19</td>\n",
       "      <td>0.26</td>\n",
       "      <td>NaN</td>\n",
       "      <td>NaN</td>\n",
       "      <td>NaN</td>\n",
       "      <td>NaN</td>\n",
       "      <td>Chicago</td>\n",
       "    </tr>\n",
       "    <tr>\n",
       "      <th>4</th>\n",
       "      <td>2014-01-05</td>\n",
       "      <td>29</td>\n",
       "      <td>-3</td>\n",
       "      <td>0.59</td>\n",
       "      <td>NaN</td>\n",
       "      <td>NaN</td>\n",
       "      <td>NaN</td>\n",
       "      <td>NaN</td>\n",
       "      <td>Chicago</td>\n",
       "    </tr>\n",
       "  </tbody>\n",
       "</table>\n",
       "</div>"
      ],
      "text/plain": [
       "         Date  MaxTemp  MinTemp  Precipitation     County  Deaths      Case  \\\n",
       "0  2014-01-01       22       10           0.25  COOK (31)     3.0  170111.0   \n",
       "1  2014-01-02       21       -1           0.22        NaN     NaN       NaN   \n",
       "2  2014-01-03       20      -12           0.00        NaN     NaN       NaN   \n",
       "3  2014-01-04       31       19           0.26        NaN     NaN       NaN   \n",
       "4  2014-01-05       29       -3           0.59        NaN     NaN       NaN   \n",
       "\n",
       "   Vehicles     City  \n",
       "0       1.0  Chicago  \n",
       "1       NaN  Chicago  \n",
       "2       NaN  Chicago  \n",
       "3       NaN  Chicago  \n",
       "4       NaN  Chicago  "
      ]
     },
     "execution_count": 18,
     "metadata": {},
     "output_type": "execute_result"
    }
   ],
   "source": [
    "chimerged = pd.merge(chiWx,dfIL,on='Date',how='left')\n",
    "chimerged.loc[:,'City'] = 'Chicago'\n",
    "chimerged.head()"
   ]
  },
  {
   "cell_type": "markdown",
   "metadata": {},
   "source": [
    "##### Houston"
   ]
  },
  {
   "cell_type": "code",
   "execution_count": 19,
   "metadata": {},
   "outputs": [],
   "source": [
    "dfhou = dfTX[dfTX['County'] == 'HARRIS (201)']"
   ]
  },
  {
   "cell_type": "code",
   "execution_count": 20,
   "metadata": {
    "scrolled": true
   },
   "outputs": [
    {
     "data": {
      "text/html": [
       "<div>\n",
       "<style scoped>\n",
       "    .dataframe tbody tr th:only-of-type {\n",
       "        vertical-align: middle;\n",
       "    }\n",
       "\n",
       "    .dataframe tbody tr th {\n",
       "        vertical-align: top;\n",
       "    }\n",
       "\n",
       "    .dataframe thead th {\n",
       "        text-align: right;\n",
       "    }\n",
       "</style>\n",
       "<table border=\"1\" class=\"dataframe\">\n",
       "  <thead>\n",
       "    <tr style=\"text-align: right;\">\n",
       "      <th></th>\n",
       "      <th>Date</th>\n",
       "      <th>MaxTemp</th>\n",
       "      <th>MinTemp</th>\n",
       "      <th>Precipitation</th>\n",
       "      <th>County</th>\n",
       "      <th>Deaths</th>\n",
       "      <th>Case</th>\n",
       "      <th>Vehicles</th>\n",
       "      <th>City</th>\n",
       "    </tr>\n",
       "  </thead>\n",
       "  <tbody>\n",
       "    <tr>\n",
       "      <th>0</th>\n",
       "      <td>2014-01-01</td>\n",
       "      <td>65</td>\n",
       "      <td>46</td>\n",
       "      <td>0.001</td>\n",
       "      <td>HARRIS (201)</td>\n",
       "      <td>1.0</td>\n",
       "      <td>480006.0</td>\n",
       "      <td>2.0</td>\n",
       "      <td>Houston</td>\n",
       "    </tr>\n",
       "    <tr>\n",
       "      <th>1</th>\n",
       "      <td>2014-01-01</td>\n",
       "      <td>65</td>\n",
       "      <td>46</td>\n",
       "      <td>0.001</td>\n",
       "      <td>HARRIS (201)</td>\n",
       "      <td>1.0</td>\n",
       "      <td>480007.0</td>\n",
       "      <td>1.0</td>\n",
       "      <td>Houston</td>\n",
       "    </tr>\n",
       "    <tr>\n",
       "      <th>2</th>\n",
       "      <td>2014-01-01</td>\n",
       "      <td>65</td>\n",
       "      <td>46</td>\n",
       "      <td>0.001</td>\n",
       "      <td>HARRIS (201)</td>\n",
       "      <td>1.0</td>\n",
       "      <td>480008.0</td>\n",
       "      <td>1.0</td>\n",
       "      <td>Houston</td>\n",
       "    </tr>\n",
       "    <tr>\n",
       "      <th>3</th>\n",
       "      <td>2014-01-01</td>\n",
       "      <td>65</td>\n",
       "      <td>46</td>\n",
       "      <td>0.001</td>\n",
       "      <td>HARRIS (201)</td>\n",
       "      <td>1.0</td>\n",
       "      <td>480100.0</td>\n",
       "      <td>1.0</td>\n",
       "      <td>Houston</td>\n",
       "    </tr>\n",
       "    <tr>\n",
       "      <th>4</th>\n",
       "      <td>2014-01-01</td>\n",
       "      <td>65</td>\n",
       "      <td>46</td>\n",
       "      <td>0.001</td>\n",
       "      <td>HARRIS (201)</td>\n",
       "      <td>1.0</td>\n",
       "      <td>480101.0</td>\n",
       "      <td>3.0</td>\n",
       "      <td>Houston</td>\n",
       "    </tr>\n",
       "  </tbody>\n",
       "</table>\n",
       "</div>"
      ],
      "text/plain": [
       "         Date  MaxTemp  MinTemp  Precipitation        County  Deaths  \\\n",
       "0  2014-01-01       65       46          0.001  HARRIS (201)     1.0   \n",
       "1  2014-01-01       65       46          0.001  HARRIS (201)     1.0   \n",
       "2  2014-01-01       65       46          0.001  HARRIS (201)     1.0   \n",
       "3  2014-01-01       65       46          0.001  HARRIS (201)     1.0   \n",
       "4  2014-01-01       65       46          0.001  HARRIS (201)     1.0   \n",
       "\n",
       "       Case  Vehicles     City  \n",
       "0  480006.0       2.0  Houston  \n",
       "1  480007.0       1.0  Houston  \n",
       "2  480008.0       1.0  Houston  \n",
       "3  480100.0       1.0  Houston  \n",
       "4  480101.0       3.0  Houston  "
      ]
     },
     "execution_count": 20,
     "metadata": {},
     "output_type": "execute_result"
    }
   ],
   "source": [
    "houmerged = pd.merge(houWx,dfhou,on='Date',how='left')\n",
    "houmerged.loc[:,'City'] = 'Houston'\n",
    "houmerged.head()"
   ]
  },
  {
   "cell_type": "markdown",
   "metadata": {},
   "source": [
    "##### Phoenix"
   ]
  },
  {
   "cell_type": "code",
   "execution_count": 21,
   "metadata": {},
   "outputs": [
    {
     "data": {
      "text/html": [
       "<div>\n",
       "<style scoped>\n",
       "    .dataframe tbody tr th:only-of-type {\n",
       "        vertical-align: middle;\n",
       "    }\n",
       "\n",
       "    .dataframe tbody tr th {\n",
       "        vertical-align: top;\n",
       "    }\n",
       "\n",
       "    .dataframe thead th {\n",
       "        text-align: right;\n",
       "    }\n",
       "</style>\n",
       "<table border=\"1\" class=\"dataframe\">\n",
       "  <thead>\n",
       "    <tr style=\"text-align: right;\">\n",
       "      <th></th>\n",
       "      <th>Date</th>\n",
       "      <th>MaxTemp</th>\n",
       "      <th>MinTemp</th>\n",
       "      <th>Precipitation</th>\n",
       "      <th>County</th>\n",
       "      <th>Deaths</th>\n",
       "      <th>Case</th>\n",
       "      <th>Vehicles</th>\n",
       "      <th>City</th>\n",
       "    </tr>\n",
       "  </thead>\n",
       "  <tbody>\n",
       "    <tr>\n",
       "      <th>0</th>\n",
       "      <td>2014-01-01</td>\n",
       "      <td>70</td>\n",
       "      <td>43</td>\n",
       "      <td>0.0</td>\n",
       "      <td>MARICOPA (13)</td>\n",
       "      <td>1.0</td>\n",
       "      <td>40019.0</td>\n",
       "      <td>1.0</td>\n",
       "      <td>Phoenix</td>\n",
       "    </tr>\n",
       "    <tr>\n",
       "      <th>1</th>\n",
       "      <td>2014-01-01</td>\n",
       "      <td>70</td>\n",
       "      <td>43</td>\n",
       "      <td>0.0</td>\n",
       "      <td>MARICOPA (13)</td>\n",
       "      <td>1.0</td>\n",
       "      <td>40050.0</td>\n",
       "      <td>2.0</td>\n",
       "      <td>Phoenix</td>\n",
       "    </tr>\n",
       "    <tr>\n",
       "      <th>2</th>\n",
       "      <td>2014-01-02</td>\n",
       "      <td>77</td>\n",
       "      <td>44</td>\n",
       "      <td>0.0</td>\n",
       "      <td>MARICOPA (13)</td>\n",
       "      <td>1.0</td>\n",
       "      <td>40051.0</td>\n",
       "      <td>1.0</td>\n",
       "      <td>Phoenix</td>\n",
       "    </tr>\n",
       "    <tr>\n",
       "      <th>3</th>\n",
       "      <td>2014-01-03</td>\n",
       "      <td>74</td>\n",
       "      <td>48</td>\n",
       "      <td>0.0</td>\n",
       "      <td>NaN</td>\n",
       "      <td>NaN</td>\n",
       "      <td>NaN</td>\n",
       "      <td>NaN</td>\n",
       "      <td>Phoenix</td>\n",
       "    </tr>\n",
       "    <tr>\n",
       "      <th>4</th>\n",
       "      <td>2014-01-04</td>\n",
       "      <td>68</td>\n",
       "      <td>48</td>\n",
       "      <td>0.0</td>\n",
       "      <td>MARICOPA (13)</td>\n",
       "      <td>1.0</td>\n",
       "      <td>40052.0</td>\n",
       "      <td>2.0</td>\n",
       "      <td>Phoenix</td>\n",
       "    </tr>\n",
       "  </tbody>\n",
       "</table>\n",
       "</div>"
      ],
      "text/plain": [
       "         Date  MaxTemp  MinTemp  Precipitation         County  Deaths  \\\n",
       "0  2014-01-01       70       43            0.0  MARICOPA (13)     1.0   \n",
       "1  2014-01-01       70       43            0.0  MARICOPA (13)     1.0   \n",
       "2  2014-01-02       77       44            0.0  MARICOPA (13)     1.0   \n",
       "3  2014-01-03       74       48            0.0            NaN     NaN   \n",
       "4  2014-01-04       68       48            0.0  MARICOPA (13)     1.0   \n",
       "\n",
       "      Case  Vehicles     City  \n",
       "0  40019.0       1.0  Phoenix  \n",
       "1  40050.0       2.0  Phoenix  \n",
       "2  40051.0       1.0  Phoenix  \n",
       "3      NaN       NaN  Phoenix  \n",
       "4  40052.0       2.0  Phoenix  "
      ]
     },
     "execution_count": 21,
     "metadata": {},
     "output_type": "execute_result"
    }
   ],
   "source": [
    "phxmerged = pd.merge(phxWx,dfAZ,on='Date',how='left')\n",
    "phxmerged.loc[:,'City'] = 'Phoenix'\n",
    "phxmerged.head()"
   ]
  },
  {
   "cell_type": "markdown",
   "metadata": {},
   "source": [
    "##### Philadelphia"
   ]
  },
  {
   "cell_type": "code",
   "execution_count": 22,
   "metadata": {},
   "outputs": [
    {
     "data": {
      "text/html": [
       "<div>\n",
       "<style scoped>\n",
       "    .dataframe tbody tr th:only-of-type {\n",
       "        vertical-align: middle;\n",
       "    }\n",
       "\n",
       "    .dataframe tbody tr th {\n",
       "        vertical-align: top;\n",
       "    }\n",
       "\n",
       "    .dataframe thead th {\n",
       "        text-align: right;\n",
       "    }\n",
       "</style>\n",
       "<table border=\"1\" class=\"dataframe\">\n",
       "  <thead>\n",
       "    <tr style=\"text-align: right;\">\n",
       "      <th></th>\n",
       "      <th>Date</th>\n",
       "      <th>MaxTemp</th>\n",
       "      <th>MinTemp</th>\n",
       "      <th>Precipitation</th>\n",
       "      <th>County</th>\n",
       "      <th>Deaths</th>\n",
       "      <th>Case</th>\n",
       "      <th>Vehicles</th>\n",
       "      <th>City</th>\n",
       "    </tr>\n",
       "  </thead>\n",
       "  <tbody>\n",
       "    <tr>\n",
       "      <th>0</th>\n",
       "      <td>2014-01-01</td>\n",
       "      <td>41</td>\n",
       "      <td>23</td>\n",
       "      <td>0.00</td>\n",
       "      <td>NaN</td>\n",
       "      <td>NaN</td>\n",
       "      <td>NaN</td>\n",
       "      <td>NaN</td>\n",
       "      <td>Philadelphia</td>\n",
       "    </tr>\n",
       "    <tr>\n",
       "      <th>1</th>\n",
       "      <td>2014-01-02</td>\n",
       "      <td>35</td>\n",
       "      <td>22</td>\n",
       "      <td>0.40</td>\n",
       "      <td>NaN</td>\n",
       "      <td>NaN</td>\n",
       "      <td>NaN</td>\n",
       "      <td>NaN</td>\n",
       "      <td>Philadelphia</td>\n",
       "    </tr>\n",
       "    <tr>\n",
       "      <th>2</th>\n",
       "      <td>2014-01-03</td>\n",
       "      <td>22</td>\n",
       "      <td>11</td>\n",
       "      <td>0.30</td>\n",
       "      <td>NaN</td>\n",
       "      <td>NaN</td>\n",
       "      <td>NaN</td>\n",
       "      <td>NaN</td>\n",
       "      <td>Philadelphia</td>\n",
       "    </tr>\n",
       "    <tr>\n",
       "      <th>3</th>\n",
       "      <td>2014-01-04</td>\n",
       "      <td>29</td>\n",
       "      <td>8</td>\n",
       "      <td>0.00</td>\n",
       "      <td>NaN</td>\n",
       "      <td>NaN</td>\n",
       "      <td>NaN</td>\n",
       "      <td>NaN</td>\n",
       "      <td>Philadelphia</td>\n",
       "    </tr>\n",
       "    <tr>\n",
       "      <th>4</th>\n",
       "      <td>2014-01-05</td>\n",
       "      <td>53</td>\n",
       "      <td>18</td>\n",
       "      <td>0.18</td>\n",
       "      <td>NaN</td>\n",
       "      <td>NaN</td>\n",
       "      <td>NaN</td>\n",
       "      <td>NaN</td>\n",
       "      <td>Philadelphia</td>\n",
       "    </tr>\n",
       "  </tbody>\n",
       "</table>\n",
       "</div>"
      ],
      "text/plain": [
       "         Date  MaxTemp  MinTemp  Precipitation County  Deaths  Case  Vehicles  \\\n",
       "0  2014-01-01       41       23           0.00    NaN     NaN   NaN       NaN   \n",
       "1  2014-01-02       35       22           0.40    NaN     NaN   NaN       NaN   \n",
       "2  2014-01-03       22       11           0.30    NaN     NaN   NaN       NaN   \n",
       "3  2014-01-04       29        8           0.00    NaN     NaN   NaN       NaN   \n",
       "4  2014-01-05       53       18           0.18    NaN     NaN   NaN       NaN   \n",
       "\n",
       "           City  \n",
       "0  Philadelphia  \n",
       "1  Philadelphia  \n",
       "2  Philadelphia  \n",
       "3  Philadelphia  \n",
       "4  Philadelphia  "
      ]
     },
     "execution_count": 22,
     "metadata": {},
     "output_type": "execute_result"
    }
   ],
   "source": [
    "phlmerged = pd.merge(phlWx,dfPA,on='Date',how='left')\n",
    "phlmerged.loc[:,'City'] = 'Philadelphia'\n",
    "phlmerged.head()"
   ]
  },
  {
   "cell_type": "markdown",
   "metadata": {},
   "source": [
    "##### San Diego"
   ]
  },
  {
   "cell_type": "code",
   "execution_count": 23,
   "metadata": {},
   "outputs": [],
   "source": [
    "dfsd = dfCA[dfCA['County'] == 'SAN DIEGO (73)']"
   ]
  },
  {
   "cell_type": "code",
   "execution_count": 24,
   "metadata": {},
   "outputs": [
    {
     "data": {
      "text/html": [
       "<div>\n",
       "<style scoped>\n",
       "    .dataframe tbody tr th:only-of-type {\n",
       "        vertical-align: middle;\n",
       "    }\n",
       "\n",
       "    .dataframe tbody tr th {\n",
       "        vertical-align: top;\n",
       "    }\n",
       "\n",
       "    .dataframe thead th {\n",
       "        text-align: right;\n",
       "    }\n",
       "</style>\n",
       "<table border=\"1\" class=\"dataframe\">\n",
       "  <thead>\n",
       "    <tr style=\"text-align: right;\">\n",
       "      <th></th>\n",
       "      <th>Date</th>\n",
       "      <th>MaxTemp</th>\n",
       "      <th>MinTemp</th>\n",
       "      <th>Precipitation</th>\n",
       "      <th>County</th>\n",
       "      <th>Deaths</th>\n",
       "      <th>Case</th>\n",
       "      <th>Vehicles</th>\n",
       "      <th>City</th>\n",
       "    </tr>\n",
       "  </thead>\n",
       "  <tbody>\n",
       "    <tr>\n",
       "      <th>0</th>\n",
       "      <td>2014-01-01</td>\n",
       "      <td>68</td>\n",
       "      <td>47</td>\n",
       "      <td>0.0</td>\n",
       "      <td>NaN</td>\n",
       "      <td>NaN</td>\n",
       "      <td>NaN</td>\n",
       "      <td>NaN</td>\n",
       "      <td>San Diego</td>\n",
       "    </tr>\n",
       "    <tr>\n",
       "      <th>1</th>\n",
       "      <td>2014-01-02</td>\n",
       "      <td>71</td>\n",
       "      <td>47</td>\n",
       "      <td>0.0</td>\n",
       "      <td>NaN</td>\n",
       "      <td>NaN</td>\n",
       "      <td>NaN</td>\n",
       "      <td>NaN</td>\n",
       "      <td>San Diego</td>\n",
       "    </tr>\n",
       "    <tr>\n",
       "      <th>2</th>\n",
       "      <td>2014-01-03</td>\n",
       "      <td>66</td>\n",
       "      <td>46</td>\n",
       "      <td>0.0</td>\n",
       "      <td>SAN DIEGO (73)</td>\n",
       "      <td>1.0</td>\n",
       "      <td>60016.0</td>\n",
       "      <td>1.0</td>\n",
       "      <td>San Diego</td>\n",
       "    </tr>\n",
       "    <tr>\n",
       "      <th>3</th>\n",
       "      <td>2014-01-03</td>\n",
       "      <td>66</td>\n",
       "      <td>46</td>\n",
       "      <td>0.0</td>\n",
       "      <td>SAN DIEGO (73)</td>\n",
       "      <td>1.0</td>\n",
       "      <td>60042.0</td>\n",
       "      <td>1.0</td>\n",
       "      <td>San Diego</td>\n",
       "    </tr>\n",
       "    <tr>\n",
       "      <th>4</th>\n",
       "      <td>2014-01-04</td>\n",
       "      <td>66</td>\n",
       "      <td>56</td>\n",
       "      <td>0.0</td>\n",
       "      <td>NaN</td>\n",
       "      <td>NaN</td>\n",
       "      <td>NaN</td>\n",
       "      <td>NaN</td>\n",
       "      <td>San Diego</td>\n",
       "    </tr>\n",
       "  </tbody>\n",
       "</table>\n",
       "</div>"
      ],
      "text/plain": [
       "         Date  MaxTemp  MinTemp  Precipitation          County  Deaths  \\\n",
       "0  2014-01-01       68       47            0.0             NaN     NaN   \n",
       "1  2014-01-02       71       47            0.0             NaN     NaN   \n",
       "2  2014-01-03       66       46            0.0  SAN DIEGO (73)     1.0   \n",
       "3  2014-01-03       66       46            0.0  SAN DIEGO (73)     1.0   \n",
       "4  2014-01-04       66       56            0.0             NaN     NaN   \n",
       "\n",
       "      Case  Vehicles       City  \n",
       "0      NaN       NaN  San Diego  \n",
       "1      NaN       NaN  San Diego  \n",
       "2  60016.0       1.0  San Diego  \n",
       "3  60042.0       1.0  San Diego  \n",
       "4      NaN       NaN  San Diego  "
      ]
     },
     "execution_count": 24,
     "metadata": {},
     "output_type": "execute_result"
    }
   ],
   "source": [
    "sdmerged = pd.merge(sdWx,dfsd,on='Date',how='left')\n",
    "sdmerged.loc[:,'City'] = 'San Diego'\n",
    "sdmerged.head()"
   ]
  },
  {
   "cell_type": "markdown",
   "metadata": {},
   "source": [
    "##### San Jose"
   ]
  },
  {
   "cell_type": "code",
   "execution_count": 25,
   "metadata": {},
   "outputs": [],
   "source": [
    "dfsj = dfCA[dfCA['County'] == 'SANTA CLARA (85)']"
   ]
  },
  {
   "cell_type": "code",
   "execution_count": 26,
   "metadata": {},
   "outputs": [
    {
     "data": {
      "text/html": [
       "<div>\n",
       "<style scoped>\n",
       "    .dataframe tbody tr th:only-of-type {\n",
       "        vertical-align: middle;\n",
       "    }\n",
       "\n",
       "    .dataframe tbody tr th {\n",
       "        vertical-align: top;\n",
       "    }\n",
       "\n",
       "    .dataframe thead th {\n",
       "        text-align: right;\n",
       "    }\n",
       "</style>\n",
       "<table border=\"1\" class=\"dataframe\">\n",
       "  <thead>\n",
       "    <tr style=\"text-align: right;\">\n",
       "      <th></th>\n",
       "      <th>Date</th>\n",
       "      <th>MaxTemp</th>\n",
       "      <th>MinTemp</th>\n",
       "      <th>Precipitation</th>\n",
       "      <th>County</th>\n",
       "      <th>Deaths</th>\n",
       "      <th>Case</th>\n",
       "      <th>Vehicles</th>\n",
       "      <th>City</th>\n",
       "    </tr>\n",
       "  </thead>\n",
       "  <tbody>\n",
       "    <tr>\n",
       "      <th>0</th>\n",
       "      <td>2014-01-01</td>\n",
       "      <td>62</td>\n",
       "      <td>35</td>\n",
       "      <td>0.0</td>\n",
       "      <td>NaN</td>\n",
       "      <td>NaN</td>\n",
       "      <td>NaN</td>\n",
       "      <td>NaN</td>\n",
       "      <td>San Jose</td>\n",
       "    </tr>\n",
       "    <tr>\n",
       "      <th>1</th>\n",
       "      <td>2014-01-02</td>\n",
       "      <td>65</td>\n",
       "      <td>38</td>\n",
       "      <td>0.0</td>\n",
       "      <td>NaN</td>\n",
       "      <td>NaN</td>\n",
       "      <td>NaN</td>\n",
       "      <td>NaN</td>\n",
       "      <td>San Jose</td>\n",
       "    </tr>\n",
       "    <tr>\n",
       "      <th>2</th>\n",
       "      <td>2014-01-03</td>\n",
       "      <td>64</td>\n",
       "      <td>40</td>\n",
       "      <td>0.0</td>\n",
       "      <td>NaN</td>\n",
       "      <td>NaN</td>\n",
       "      <td>NaN</td>\n",
       "      <td>NaN</td>\n",
       "      <td>San Jose</td>\n",
       "    </tr>\n",
       "    <tr>\n",
       "      <th>3</th>\n",
       "      <td>2014-01-04</td>\n",
       "      <td>66</td>\n",
       "      <td>38</td>\n",
       "      <td>0.0</td>\n",
       "      <td>NaN</td>\n",
       "      <td>NaN</td>\n",
       "      <td>NaN</td>\n",
       "      <td>NaN</td>\n",
       "      <td>San Jose</td>\n",
       "    </tr>\n",
       "    <tr>\n",
       "      <th>4</th>\n",
       "      <td>2014-01-05</td>\n",
       "      <td>66</td>\n",
       "      <td>35</td>\n",
       "      <td>0.0</td>\n",
       "      <td>SANTA CLARA (85)</td>\n",
       "      <td>1.0</td>\n",
       "      <td>60640.0</td>\n",
       "      <td>2.0</td>\n",
       "      <td>San Jose</td>\n",
       "    </tr>\n",
       "  </tbody>\n",
       "</table>\n",
       "</div>"
      ],
      "text/plain": [
       "         Date  MaxTemp  MinTemp  Precipitation            County  Deaths  \\\n",
       "0  2014-01-01       62       35            0.0               NaN     NaN   \n",
       "1  2014-01-02       65       38            0.0               NaN     NaN   \n",
       "2  2014-01-03       64       40            0.0               NaN     NaN   \n",
       "3  2014-01-04       66       38            0.0               NaN     NaN   \n",
       "4  2014-01-05       66       35            0.0  SANTA CLARA (85)     1.0   \n",
       "\n",
       "      Case  Vehicles      City  \n",
       "0      NaN       NaN  San Jose  \n",
       "1      NaN       NaN  San Jose  \n",
       "2      NaN       NaN  San Jose  \n",
       "3      NaN       NaN  San Jose  \n",
       "4  60640.0       2.0  San Jose  "
      ]
     },
     "execution_count": 26,
     "metadata": {},
     "output_type": "execute_result"
    }
   ],
   "source": [
    "sjmerged = pd.merge(sjWx,dfsj,on='Date',how='left')\n",
    "sjmerged.loc[:,'City'] = 'San Jose'\n",
    "sjmerged.head()"
   ]
  },
  {
   "cell_type": "markdown",
   "metadata": {},
   "source": [
    "##### San Antonio"
   ]
  },
  {
   "cell_type": "code",
   "execution_count": 27,
   "metadata": {},
   "outputs": [],
   "source": [
    "dfsa = dfTX[dfTX['County'] == 'BEXAR (29)']"
   ]
  },
  {
   "cell_type": "code",
   "execution_count": 28,
   "metadata": {},
   "outputs": [
    {
     "data": {
      "text/html": [
       "<div>\n",
       "<style scoped>\n",
       "    .dataframe tbody tr th:only-of-type {\n",
       "        vertical-align: middle;\n",
       "    }\n",
       "\n",
       "    .dataframe tbody tr th {\n",
       "        vertical-align: top;\n",
       "    }\n",
       "\n",
       "    .dataframe thead th {\n",
       "        text-align: right;\n",
       "    }\n",
       "</style>\n",
       "<table border=\"1\" class=\"dataframe\">\n",
       "  <thead>\n",
       "    <tr style=\"text-align: right;\">\n",
       "      <th></th>\n",
       "      <th>Date</th>\n",
       "      <th>MaxTemp</th>\n",
       "      <th>MinTemp</th>\n",
       "      <th>Precipitation</th>\n",
       "      <th>County</th>\n",
       "      <th>Deaths</th>\n",
       "      <th>Case</th>\n",
       "      <th>Vehicles</th>\n",
       "      <th>City</th>\n",
       "    </tr>\n",
       "  </thead>\n",
       "  <tbody>\n",
       "    <tr>\n",
       "      <th>0</th>\n",
       "      <td>2014-01-01</td>\n",
       "      <td>61</td>\n",
       "      <td>39</td>\n",
       "      <td>0.0</td>\n",
       "      <td>BEXAR (29)</td>\n",
       "      <td>1.0</td>\n",
       "      <td>480001.0</td>\n",
       "      <td>2.0</td>\n",
       "      <td>San Antonio</td>\n",
       "    </tr>\n",
       "    <tr>\n",
       "      <th>1</th>\n",
       "      <td>2014-01-02</td>\n",
       "      <td>57</td>\n",
       "      <td>35</td>\n",
       "      <td>0.0</td>\n",
       "      <td>NaN</td>\n",
       "      <td>NaN</td>\n",
       "      <td>NaN</td>\n",
       "      <td>NaN</td>\n",
       "      <td>San Antonio</td>\n",
       "    </tr>\n",
       "    <tr>\n",
       "      <th>2</th>\n",
       "      <td>2014-01-03</td>\n",
       "      <td>57</td>\n",
       "      <td>28</td>\n",
       "      <td>0.0</td>\n",
       "      <td>BEXAR (29)</td>\n",
       "      <td>1.0</td>\n",
       "      <td>480019.0</td>\n",
       "      <td>1.0</td>\n",
       "      <td>San Antonio</td>\n",
       "    </tr>\n",
       "    <tr>\n",
       "      <th>3</th>\n",
       "      <td>2014-01-04</td>\n",
       "      <td>71</td>\n",
       "      <td>46</td>\n",
       "      <td>0.0</td>\n",
       "      <td>NaN</td>\n",
       "      <td>NaN</td>\n",
       "      <td>NaN</td>\n",
       "      <td>NaN</td>\n",
       "      <td>San Antonio</td>\n",
       "    </tr>\n",
       "    <tr>\n",
       "      <th>4</th>\n",
       "      <td>2014-01-05</td>\n",
       "      <td>58</td>\n",
       "      <td>38</td>\n",
       "      <td>0.0</td>\n",
       "      <td>BEXAR (29)</td>\n",
       "      <td>1.0</td>\n",
       "      <td>480039.0</td>\n",
       "      <td>1.0</td>\n",
       "      <td>San Antonio</td>\n",
       "    </tr>\n",
       "  </tbody>\n",
       "</table>\n",
       "</div>"
      ],
      "text/plain": [
       "         Date  MaxTemp  MinTemp  Precipitation      County  Deaths      Case  \\\n",
       "0  2014-01-01       61       39            0.0  BEXAR (29)     1.0  480001.0   \n",
       "1  2014-01-02       57       35            0.0         NaN     NaN       NaN   \n",
       "2  2014-01-03       57       28            0.0  BEXAR (29)     1.0  480019.0   \n",
       "3  2014-01-04       71       46            0.0         NaN     NaN       NaN   \n",
       "4  2014-01-05       58       38            0.0  BEXAR (29)     1.0  480039.0   \n",
       "\n",
       "   Vehicles         City  \n",
       "0       2.0  San Antonio  \n",
       "1       NaN  San Antonio  \n",
       "2       1.0  San Antonio  \n",
       "3       NaN  San Antonio  \n",
       "4       1.0  San Antonio  "
      ]
     },
     "execution_count": 28,
     "metadata": {},
     "output_type": "execute_result"
    }
   ],
   "source": [
    "samerged = pd.merge(saWx,dfsa,on='Date',how='left')\n",
    "samerged.loc[:,'City'] = 'San Antonio'\n",
    "samerged.head()"
   ]
  },
  {
   "cell_type": "markdown",
   "metadata": {},
   "source": [
    "### Create a master df holding all cities"
   ]
  },
  {
   "cell_type": "code",
   "execution_count": 29,
   "metadata": {},
   "outputs": [],
   "source": [
    "masterDF = pd.concat([dalMerged,samerged,houmerged,sjmerged,lamerged,sdmerged,nycmerged,phlmerged,chimerged,phxmerged])"
   ]
  },
  {
   "cell_type": "code",
   "execution_count": 30,
   "metadata": {},
   "outputs": [],
   "source": [
    "# Reset the index to clean up\n",
    "masterDF.reset_index(drop=True,inplace=True)"
   ]
  },
  {
   "cell_type": "markdown",
   "metadata": {},
   "source": [
    "To get an idea of different levels of precipitation, we return a dataframe with just precipitation days. We can use this to find good breakpoints for levels of precipitation."
   ]
  },
  {
   "cell_type": "code",
   "execution_count": 31,
   "metadata": {},
   "outputs": [],
   "source": [
    "precipDF = masterDF[masterDF['Precipitation'] > 0.001]"
   ]
  },
  {
   "cell_type": "code",
   "execution_count": 32,
   "metadata": {},
   "outputs": [
    {
     "name": "stdout",
     "output_type": "stream",
     "text": [
      "25th Percentile of Precipitation: 0.04\n",
      "75th Percentile of Precipitation: 0.48\n",
      "95th Percentile of Precipitation: 1.54\n"
     ]
    }
   ],
   "source": [
    "print(f\"25th Percentile of Precipitation: {precipDF.quantile(0.25)['Precipitation']}\") \n",
    "print(f\"75th Percentile of Precipitation: {precipDF.quantile(0.75)['Precipitation']}\")\n",
    "print(f\"95th Percentile of Precipitation: {precipDF.quantile(0.95)['Precipitation']}\")"
   ]
  },
  {
   "cell_type": "markdown",
   "metadata": {},
   "source": [
    "Using the above information, we decided to bin precipitation levels into the following categories.\n",
    " - Dry: 0.00\"\n",
    " - Light: 0.001\" - 0.04\"\n",
    " - Moderate: 0.05\" - 0.49\"\n",
    " - Heavy: 0.50\" - 1.49\"\n",
    " - Very Heavy: 1.5\"+\n"
   ]
  },
  {
   "cell_type": "code",
   "execution_count": 33,
   "metadata": {},
   "outputs": [],
   "source": [
    "masterDF['Category'] = pd.cut(masterDF['Precipitation'],[-0.001,0.00,0.04,0.49,1.49,25.0],\n",
    "                              labels=['Dry','Light','Moderate','Heavy','Very Heavy'])"
   ]
  },
  {
   "cell_type": "code",
   "execution_count": 34,
   "metadata": {},
   "outputs": [],
   "source": [
    "# Save our master df to a csv\n",
    "# masterDF.to_csv('./data/clean/allCitiesAndWeather.csv')"
   ]
  },
  {
   "cell_type": "markdown",
   "metadata": {},
   "source": [
    "### Load the old csv if we don't want to re-create the dataframe"
   ]
  },
  {
   "cell_type": "code",
   "execution_count": 35,
   "metadata": {},
   "outputs": [],
   "source": [
    "masterDF = pd.read_csv('./data/clean/allCitiesAndWeather.csv',index_col=0)"
   ]
  },
  {
   "cell_type": "code",
   "execution_count": 36,
   "metadata": {},
   "outputs": [
    {
     "data": {
      "text/html": [
       "<div>\n",
       "<style scoped>\n",
       "    .dataframe tbody tr th:only-of-type {\n",
       "        vertical-align: middle;\n",
       "    }\n",
       "\n",
       "    .dataframe tbody tr th {\n",
       "        vertical-align: top;\n",
       "    }\n",
       "\n",
       "    .dataframe thead th {\n",
       "        text-align: right;\n",
       "    }\n",
       "</style>\n",
       "<table border=\"1\" class=\"dataframe\">\n",
       "  <thead>\n",
       "    <tr style=\"text-align: right;\">\n",
       "      <th></th>\n",
       "      <th>Date</th>\n",
       "      <th>MaxTemp</th>\n",
       "      <th>MinTemp</th>\n",
       "      <th>Precipitation</th>\n",
       "      <th>County</th>\n",
       "      <th>Deaths</th>\n",
       "      <th>Case</th>\n",
       "      <th>Vehicles</th>\n",
       "      <th>City</th>\n",
       "      <th>Category</th>\n",
       "    </tr>\n",
       "  </thead>\n",
       "  <tbody>\n",
       "    <tr>\n",
       "      <th>0</th>\n",
       "      <td>2014-01-01</td>\n",
       "      <td>69</td>\n",
       "      <td>31</td>\n",
       "      <td>0.0</td>\n",
       "      <td>DALLAS (113)</td>\n",
       "      <td>1.0</td>\n",
       "      <td>480002.0</td>\n",
       "      <td>1.0</td>\n",
       "      <td>Dallas</td>\n",
       "      <td>Dry</td>\n",
       "    </tr>\n",
       "    <tr>\n",
       "      <th>1</th>\n",
       "      <td>2014-01-01</td>\n",
       "      <td>69</td>\n",
       "      <td>31</td>\n",
       "      <td>0.0</td>\n",
       "      <td>DALLAS (113)</td>\n",
       "      <td>2.0</td>\n",
       "      <td>480003.0</td>\n",
       "      <td>2.0</td>\n",
       "      <td>Dallas</td>\n",
       "      <td>Dry</td>\n",
       "    </tr>\n",
       "    <tr>\n",
       "      <th>2</th>\n",
       "      <td>2014-01-01</td>\n",
       "      <td>69</td>\n",
       "      <td>31</td>\n",
       "      <td>0.0</td>\n",
       "      <td>DALLAS (113)</td>\n",
       "      <td>1.0</td>\n",
       "      <td>480182.0</td>\n",
       "      <td>2.0</td>\n",
       "      <td>Dallas</td>\n",
       "      <td>Dry</td>\n",
       "    </tr>\n",
       "    <tr>\n",
       "      <th>3</th>\n",
       "      <td>2014-01-02</td>\n",
       "      <td>43</td>\n",
       "      <td>25</td>\n",
       "      <td>0.0</td>\n",
       "      <td>NaN</td>\n",
       "      <td>NaN</td>\n",
       "      <td>NaN</td>\n",
       "      <td>NaN</td>\n",
       "      <td>Dallas</td>\n",
       "      <td>Dry</td>\n",
       "    </tr>\n",
       "    <tr>\n",
       "      <th>4</th>\n",
       "      <td>2014-01-03</td>\n",
       "      <td>52</td>\n",
       "      <td>25</td>\n",
       "      <td>0.0</td>\n",
       "      <td>NaN</td>\n",
       "      <td>NaN</td>\n",
       "      <td>NaN</td>\n",
       "      <td>NaN</td>\n",
       "      <td>Dallas</td>\n",
       "      <td>Dry</td>\n",
       "    </tr>\n",
       "  </tbody>\n",
       "</table>\n",
       "</div>"
      ],
      "text/plain": [
       "         Date  MaxTemp  MinTemp  Precipitation        County  Deaths  \\\n",
       "0  2014-01-01       69       31            0.0  DALLAS (113)     1.0   \n",
       "1  2014-01-01       69       31            0.0  DALLAS (113)     2.0   \n",
       "2  2014-01-01       69       31            0.0  DALLAS (113)     1.0   \n",
       "3  2014-01-02       43       25            0.0           NaN     NaN   \n",
       "4  2014-01-03       52       25            0.0           NaN     NaN   \n",
       "\n",
       "       Case  Vehicles    City Category  \n",
       "0  480002.0       1.0  Dallas      Dry  \n",
       "1  480003.0       2.0  Dallas      Dry  \n",
       "2  480182.0       2.0  Dallas      Dry  \n",
       "3       NaN       NaN  Dallas      Dry  \n",
       "4       NaN       NaN  Dallas      Dry  "
      ]
     },
     "execution_count": 36,
     "metadata": {},
     "output_type": "execute_result"
    }
   ],
   "source": [
    "masterDF.head()"
   ]
  },
  {
   "cell_type": "markdown",
   "metadata": {},
   "source": [
    "## Exploratory/Initial Analysis"
   ]
  },
  {
   "cell_type": "markdown",
   "metadata": {},
   "source": [
    "##### Total Rainfall by City"
   ]
  },
  {
   "cell_type": "code",
   "execution_count": 37,
   "metadata": {},
   "outputs": [],
   "source": [
    "totalRain = precipDF.groupby('City')['Precipitation'].sum()"
   ]
  },
  {
   "cell_type": "code",
   "execution_count": 52,
   "metadata": {},
   "outputs": [
    {
     "data": {
      "image/png": "[encoded data removed]",
      "text/plain": [
       "<Figure size 720x432 with 1 Axes>"
      ]
     },
     "metadata": {},
     "output_type": "display_data"
    }
   ],
   "source": [
    "totalRain_sort=totalRain.sort_values()\n",
    "plt.figure(figsize=(10,6))\n",
    "sns.set(style=\"whitegrid\")\n",
    "sns.set(font_scale=1.2)\n",
    "ax=sns.barplot(x=totalRain_sort,y=totalRain_sort.index.values)\n",
    "ax.set(xlabel=\"Precipitation(inches)\", ylabel=\"City\", title=\"2014-18 Total Precipitation\")\n",
    "plt.tight_layout()\n",
    "plt.savefig('./images/totalPrecip.png',dpi=300)\n",
    "plt.show()"
   ]
  },
  {
   "cell_type": "code",
   "execution_count": 38,
   "metadata": {
    "scrolled": false
   },
   "outputs": [
    {
     "data": {
      "image/png": "[encoded data removed]",
      "text/plain": [
       "<Figure size 720x720 with 1 Axes>"
      ]
     },
     "metadata": {
      "needs_background": "light"
     },
     "output_type": "display_data"
    }
   ],
   "source": [
    "#totalRain.keys()\n",
    "\n",
    "fig,ax = plt.subplots(1,1,figsize=(10,10))\n",
    "plt.bar(np.arange(0,10),totalRain.values,tick_label=totalRain.keys())\n",
    "plt.xticks(rotation=45)\n",
    "plt.title('2014-18 Total Precipitation')\n",
    "plt.ylabel('Precipitation (inches)')\n",
    "plt.xlabel('City')\n",
    "plt.savefig('./images/totalPrecip.png',dpi=300)\n",
    "plt.show()"
   ]
  },
  {
   "cell_type": "markdown",
   "metadata": {},
   "source": [
    "Based on the above bar chart, our cities cluster into two groups:\n",
    " - \"Accustomed to Precipitation\": New York City, Chicago, Houston, Philadelphia, Dallas, San Antonio\n",
    " - \"Not Accustomed to Precipitation\": Los Angeles, San Jose, San Diego, Phoenix"
   ]
  },
  {
   "cell_type": "markdown",
   "metadata": {},
   "source": [
    "### Relative Frequency of Accidents by Precipitation Category\n",
    "Analyze the relative frequency of precipitation category associated with each accident. "
   ]
  },
  {
   "cell_type": "code",
   "execution_count": 39,
   "metadata": {},
   "outputs": [],
   "source": [
    "onlyAccidents = masterDF[masterDF['Case'].notna()]"
   ]
  },
  {
   "cell_type": "code",
   "execution_count": 40,
   "metadata": {},
   "outputs": [],
   "source": [
    "accidentByCat = onlyAccidents.groupby('Category')['Case'].count()"
   ]
  },
  {
   "cell_type": "code",
   "execution_count": 41,
   "metadata": {},
   "outputs": [
    {
     "data": {
      "text/plain": [
       "Index(['Dry', 'Heavy', 'Light', 'Moderate', 'Very Heavy'], dtype='object', name='Category')"
      ]
     },
     "execution_count": 41,
     "metadata": {},
     "output_type": "execute_result"
    }
   ],
   "source": [
    "accidentByCat.keys()"
   ]
  },
  {
   "cell_type": "code",
   "execution_count": 42,
   "metadata": {},
   "outputs": [
    {
     "data": {
      "image/png": "[encoded data removed]",
      "text/plain": [
       "<Figure size 576x576 with 1 Axes>"
      ]
     },
     "metadata": {},
     "output_type": "display_data"
    }
   ],
   "source": [
    "fig1, ax1 = plt.subplots(figsize=(8,8))\n",
    "ax1.pie(accidentByCat.values, autopct='%1.1f%%', labels=accidentByCat.keys(),\n",
    "        shadow=True, startangle=50)\n",
    "ax1.axis('equal')\n",
    "plt.title('Distribution of Fatal Accidents by Precip Category')\n",
    "plt.savefig('./images/pieDistribution.png',dpi=300)\n",
    "plt.show()"
   ]
  },
  {
   "cell_type": "markdown",
   "metadata": {},
   "source": [
    "### Fatal Accident Rate Per Day\n",
    "Broken down by precipitation category, plot accident rate per day for all cities combined."
   ]
  },
  {
   "cell_type": "code",
   "execution_count": 43,
   "metadata": {},
   "outputs": [],
   "source": [
    "# Get the number of precip type days for each city and then sum them\n",
    "\n",
    "countDal = masterDF[masterDF['City'] == 'Dallas'].groupby('Category')['Date'].count()\n",
    "countNYC = masterDF[masterDF['City'] == 'New York City'].groupby('Category')['Date'].count()\n",
    "countLA = masterDF[masterDF['City'] == 'Los Angeles'].groupby('Category')['Date'].count()\n",
    "countHou = masterDF[masterDF['City'] == 'Houston'].groupby('Category')['Date'].count()\n",
    "countPhx = masterDF[masterDF['City'] == 'Phoenix'].groupby('Category')['Date'].count()\n",
    "countChi = masterDF[masterDF['City'] == 'Chicago'].groupby('Category')['Date'].count()\n",
    "countPhi = masterDF[masterDF['City'] == 'Philadelphia'].groupby('Category')['Date'].count()\n",
    "countSJ = masterDF[masterDF['City'] == 'San Jose'].groupby('Category')['Date'].count()\n",
    "countSD = masterDF[masterDF['City'] == 'San Diego'].groupby('Category')['Date'].count()\n",
    "countSA = masterDF[masterDF['City'] == 'San Antonio'].groupby('Category')['Date'].count()\n",
    "\n",
    "totalByCat = countDal+countNYC+countLA+countHou+countPhx+countChi+countPhi+countSJ+countSD+countSA"
   ]
  },
  {
   "cell_type": "code",
   "execution_count": 44,
   "metadata": {},
   "outputs": [],
   "source": [
    "ratesByCat = masterDF.groupby('Category')['Case'].count()/totalByCat"
   ]
  },
  {
   "cell_type": "code",
   "execution_count": 45,
   "metadata": {},
   "outputs": [
    {
     "data": {
      "image/png": "[encoded data removed]",
      "text/plain": [
       "<Figure size 576x576 with 1 Axes>"
      ]
     },
     "metadata": {
      "needs_background": "light"
     },
     "output_type": "display_data"
    }
   ],
   "source": [
    "fig,ax = plt.subplots(figsize=(8,8))\n",
    "plt.bar(np.arange(0,5),ratesByCat,tick_label=ratesByCat.keys(),alpha=0.5)\n",
    "plt.xticks(rotation=45)\n",
    "plt.title('Fatal Accident Rates by Precipitation Category')\n",
    "plt.ylabel('Fatal Accidents per Day')\n",
    "plt.xlabel('Precipitation Category')\n",
    "plt.savefig('./images/ratesPerDayAllCities.png',dpi=300)\n",
    "plt.show()"
   ]
  },
  {
   "cell_type": "code",
   "execution_count": null,
   "metadata": {},
   "outputs": [],
   "source": []
  }
 ],
 "metadata": {
  "kernelspec": {
   "display_name": "Python 3",
   "language": "python",
   "name": "python3"
  },
  "language_info": {
   "codemirror_mode": {
    "name": "ipython",
    "version": 3
   },
   "file_extension": ".py",
   "mimetype": "text/x-python",
   "name": "python",
   "nbconvert_exporter": "python",
   "pygments_lexer": "ipython3",
   "version": "3.6.9"
  }
 },
 "nbformat": 4,
 "nbformat_minor": 4
}
